{
 "cells": [
  {
   "cell_type": "code",
   "execution_count": 21,
   "id": "20e7e2cd-db57-4820-b96f-3dbc929d872e",
   "metadata": {},
   "outputs": [
    {
     "name": "stdout",
     "output_type": "stream",
     "text": [
      "username e uguale a: studente_dapt\n",
      "sono collegato al database!\n"
     ]
    }
   ],
   "source": [
    "%run \"connessione_a_database.ipynb\""
   ]
  },
  {
   "cell_type": "code",
   "execution_count": 28,
   "id": "6c4980e2-6894-4284-9242-7cc94c090e77",
   "metadata": {},
   "outputs": [
    {
     "name": "stdout",
     "output_type": "stream",
     "text": [
      "     ProductKey ProductAlternateKey  ProductSubcategoryKey  \\\n",
      "0             1             AR-5381                    NaN   \n",
      "1             2             BA-8327                    NaN   \n",
      "2             3             BE-2349                    NaN   \n",
      "3             4             BE-2908                    NaN   \n",
      "4             5             BL-2036                    NaN   \n",
      "..          ...                 ...                    ...   \n",
      "601         602             BB-8107                    5.0   \n",
      "602         603             BB-9108                    5.0   \n",
      "603         604          BK-R19B-44                    2.0   \n",
      "604         605          BK-R19B-48                    2.0   \n",
      "605         606          BK-R19B-52                    2.0   \n",
      "\n",
      "    WeightUnitMeasureCode SizeUnitMeasureCode     EnglishProductName  \\\n",
      "0                    None                None        Adjustable Race   \n",
      "1                    None                None           Bearing Ball   \n",
      "2                    None                None        BB Ball Bearing   \n",
      "3                    None                None  Headset Ball Bearings   \n",
      "4                    None                None                  Blade   \n",
      "..                    ...                 ...                    ...   \n",
      "601                     G                None      ML Bottom Bracket   \n",
      "602                     G                None      HL Bottom Bracket   \n",
      "603                    LB                  CM     Road-750 Black, 44   \n",
      "604                    LB                  CM     Road-750 Black, 48   \n",
      "605                    LB                  CM     Road-750 Black, 52   \n",
      "\n",
      "            SpanishProductName           FrenchProductName  StandardCost  \\\n",
      "0                                                                    NaN   \n",
      "1                                                                    NaN   \n",
      "2                                                                    NaN   \n",
      "3                                                                    NaN   \n",
      "4                                                                    NaN   \n",
      "..                         ...                         ...           ...   \n",
      "601         Eje de pedalier GM          Axe de pédalier ML         44.95   \n",
      "602         Eje de pedalier GA          Axe de pédalier HL         53.94   \n",
      "603  Carretera: 750, negra, 44  Vélo de route 750 noir, 44        343.65   \n",
      "604  Carretera: 750, negra, 48  Vélo de route 750 noir, 48        343.65   \n",
      "605  Carretera: 750, negra, 52  Vélo de route 750 noir, 52        343.65   \n",
      "\n",
      "     FinishedGoodsFlag  ...                 ChineseDescription  \\\n",
      "0                    0  ...                               None   \n",
      "1                    0  ...                               None   \n",
      "2                    0  ...                               None   \n",
      "3                    0  ...                               None   \n",
      "4                    0  ...                               None   \n",
      "..                 ...  ...                                ...   \n",
      "601                  1  ...                      铝合金车圈；大直径脚蹬轴。   \n",
      "602                  1  ...                         铝合金车圈和空心轴。   \n",
      "603                  1  ...  入门级成人自行车；确保越野旅行或公路骑乘的舒适。快拆式车毂和轮缘。   \n",
      "604                  1  ...  入门级成人自行车；确保越野旅行或公路骑乘的舒适。快拆式车毂和轮缘。   \n",
      "605                  1  ...  入门级成人自行车；确保越野旅行或公路骑乘的舒适。快拆式车毂和轮缘。   \n",
      "\n",
      "                                     ArabicDescription  \\\n",
      "0                                                 None   \n",
      "1                                                 None   \n",
      "2                                                 None   \n",
      "3                                                 None   \n",
      "4                                                 None   \n",
      "..                                                 ...   \n",
      "601  فناجين من سبيكة الألومنيوم؛ ذات محور دوران كبي...   \n",
      "602             فناجين من سبيكة الألومنيوم ومحور أجوف.   \n",
      "603  إنها دراجة مناسبة للمبتدئين من البالغين؛ فهي ت...   \n",
      "604  إنها دراجة مناسبة للمبتدئين من البالغين؛ فهي ت...   \n",
      "605  إنها دراجة مناسبة للمبتدئين من البالغين؛ فهي ت...   \n",
      "\n",
      "                                     HebrewDescription  \\\n",
      "0                                                 None   \n",
      "1                                                 None   \n",
      "2                                                 None   \n",
      "3                                                 None   \n",
      "4                                                 None   \n",
      "..                                                 ...   \n",
      "601           כיסויים מסגסוגת אלומיניום; ציר רחב-קוטר.   \n",
      "602               כיסויים מסגסוגת אלומיניום וציר חלול.   \n",
      "603  אופני מבוגרים למתחילים; מציעים רכיבה נוחה \"מחו...   \n",
      "604  אופני מבוגרים למתחילים; מציעים רכיבה נוחה \"מחו...   \n",
      "605  אופני מבוגרים למתחילים; מציעים רכיבה נוחה \"מחו...   \n",
      "\n",
      "                                       ThaiDescription  \\\n",
      "0                                                 None   \n",
      "1                                                 None   \n",
      "2                                                 None   \n",
      "3                                                 None   \n",
      "4                                                 None   \n",
      "..                                                 ...   \n",
      "601              ดุมอลูมิเนียมอัลลอยด์ แกนเพลาขนาดใหญ่   \n",
      "602                   ดุมอลูมิเนียมอัลลอยด์และเพลากลวง   \n",
      "603  จักรยานระดับเริ่มต้นสำหรับผู้ใหญ่ ให้ความสบายใ...   \n",
      "604  จักรยานระดับเริ่มต้นสำหรับผู้ใหญ่ ให้ความสบายใ...   \n",
      "605  จักรยานระดับเริ่มต้นสำหรับผู้ใหญ่ ให้ความสบายใ...   \n",
      "\n",
      "                                     GermanDescription  \\\n",
      "0                                                 None   \n",
      "1                                                 None   \n",
      "2                                                 None   \n",
      "3                                                 None   \n",
      "4                                                 None   \n",
      "..                                                 ...   \n",
      "601  Außenringe aus Aluminiumlegierung; Radachse mi...   \n",
      "602  Außenringe aus Aluminiumlegierung und hohle Ac...   \n",
      "603  Ein Erwachsenenrad für Einsteiger; bietet Komf...   \n",
      "604  Ein Erwachsenenrad für Einsteiger; bietet Komf...   \n",
      "605  Ein Erwachsenenrad für Einsteiger; bietet Komf...   \n",
      "\n",
      "                                   JapaneseDescription  \\\n",
      "0                                                 None   \n",
      "1                                                 None   \n",
      "2                                                 None   \n",
      "3                                                 None   \n",
      "4                                                 None   \n",
      "..                                                 ...   \n",
      "601                               アルミニウム合金カップ、大径スピンドル。   \n",
      "602                              アルミニウム合金カップとホロー アクスル。   \n",
      "603  エントリー レベルに対応する、クロスカントリーにも街への買い物にも快適な、大人の自転車。ハブ...   \n",
      "604  エントリー レベルに対応する、クロスカントリーにも街への買い物にも快適な、大人の自転車。ハブ...   \n",
      "605  エントリー レベルに対応する、クロスカントリーにも街への買い物にも快適な、大人の自転車。ハブ...   \n",
      "\n",
      "                                    TurkishDescription  StartDate EndDate  \\\n",
      "0                                                 None 2003-07-01     NaT   \n",
      "1                                                 None 2003-07-01     NaT   \n",
      "2                                                 None 2003-07-01     NaT   \n",
      "3                                                 None 2003-07-01     NaT   \n",
      "4                                                 None 2003-07-01     NaT   \n",
      "..                                                 ...        ...     ...   \n",
      "601  Alüminyum alaşımı orta göbekler; geniş çaplı mil. 2013-07-01     NaT   \n",
      "602    Alüminyum alaşımı orta göbekler ve içi boş aks. 2013-07-01     NaT   \n",
      "603  \"Başlangıç seviyesinde yetişkin bisikleti, kır... 2013-07-01     NaT   \n",
      "604  \"Başlangıç seviyesinde yetişkin bisikleti, kır... 2013-07-01     NaT   \n",
      "605  \"Başlangıç seviyesinde yetişkin bisikleti, kır... 2013-07-01     NaT   \n",
      "\n",
      "      Status  \n",
      "0    Current  \n",
      "1    Current  \n",
      "2    Current  \n",
      "3    Current  \n",
      "4    Current  \n",
      "..       ...  \n",
      "601  Current  \n",
      "602  Current  \n",
      "603  Current  \n",
      "604  Current  \n",
      "605  Current  \n",
      "\n",
      "[606 rows x 36 columns]\n"
     ]
    }
   ],
   "source": [
    "query = \"SELECT * FROM dimproduct\"  # stringa che contiene un'interrogazione SQL\n",
    "dimproduct = pd.read_sql(query, db_engine) # utilizziamo pandas per leggere il result set del mio statement SQL\n",
    "print(dimproduct)"
   ]
  },
  {
   "cell_type": "code",
   "execution_count": 30,
   "id": "39540f78-da82-4060-90c6-d4af0f21e1f2",
   "metadata": {},
   "outputs": [
    {
     "data": {
      "text/plain": [
       "array(['NA', 'Black', 'Silver', 'Red', 'White', 'Blue', 'Multi', 'Yellow',\n",
       "       'Grey', 'Silver/Black'], dtype=object)"
      ]
     },
     "execution_count": 30,
     "metadata": {},
     "output_type": "execute_result"
    }
   ],
   "source": [
    "dimproduct.loc[:, \"Color\"].unique()"
   ]
  },
  {
   "cell_type": "raw",
   "id": "8a250afe-d72f-477e-8834-f6d71c5511ec",
   "metadata": {},
   "source": [
    "dimproduct.loc[:, \"Color\"].value_counts()"
   ]
  },
  {
   "cell_type": "code",
   "execution_count": 33,
   "id": "52222096-4b7b-40ff-99ba-084ffe283c23",
   "metadata": {},
   "outputs": [
    {
     "data": {
      "text/plain": [
       "56.1932269503546"
      ]
     },
     "execution_count": 33,
     "metadata": {},
     "output_type": "execute_result"
    }
   ],
   "source": [
    "dimproduct[\"Weight\"].mean()"
   ]
  },
  {
   "cell_type": "code",
   "execution_count": 35,
   "id": "1fa66aa4-851f-4b85-835e-9acdedd7c868",
   "metadata": {},
   "outputs": [
    {
     "data": {
      "text/plain": [
       "Color\n",
       "NA              254\n",
       "Black           133\n",
       "Red              63\n",
       "Silver           52\n",
       "Yellow           46\n",
       "Blue             28\n",
       "Multi            18\n",
       "Silver/Black      7\n",
       "White             4\n",
       "Grey              1\n",
       "Name: count, dtype: int64"
      ]
     },
     "execution_count": 35,
     "metadata": {},
     "output_type": "execute_result"
    }
   ],
   "source": [
    "dimproduct.loc[:, \"Color\"].value_counts()"
   ]
  },
  {
   "cell_type": "code",
   "execution_count": 37,
   "id": "5d7d642d-f9fb-4a00-b48d-377266577153",
   "metadata": {},
   "outputs": [
    {
     "data": {
      "text/plain": [
       "1050.0"
      ]
     },
     "execution_count": 37,
     "metadata": {},
     "output_type": "execute_result"
    }
   ],
   "source": [
    "dimproduct[\"Weight\"].max()"
   ]
  },
  {
   "cell_type": "code",
   "execution_count": 46,
   "id": "9c946172-7534-494f-992b-3dcae5baa4fc",
   "metadata": {},
   "outputs": [
    {
     "data": {
      "text/html": [
       "<div>\n",
       "<style scoped>\n",
       "    .dataframe tbody tr th:only-of-type {\n",
       "        vertical-align: middle;\n",
       "    }\n",
       "\n",
       "    .dataframe tbody tr th {\n",
       "        vertical-align: top;\n",
       "    }\n",
       "\n",
       "    .dataframe thead th {\n",
       "        text-align: right;\n",
       "    }\n",
       "</style>\n",
       "<table border=\"1\" class=\"dataframe\">\n",
       "  <thead>\n",
       "    <tr style=\"text-align: right;\">\n",
       "      <th></th>\n",
       "      <th>ProductKey</th>\n",
       "      <th>Weight</th>\n",
       "    </tr>\n",
       "  </thead>\n",
       "  <tbody>\n",
       "    <tr>\n",
       "      <th>179</th>\n",
       "      <td>180</td>\n",
       "      <td>435.0</td>\n",
       "    </tr>\n",
       "    <tr>\n",
       "      <th>180</th>\n",
       "      <td>181</td>\n",
       "      <td>450.0</td>\n",
       "    </tr>\n",
       "    <tr>\n",
       "      <th>181</th>\n",
       "      <td>182</td>\n",
       "      <td>400.0</td>\n",
       "    </tr>\n",
       "    <tr>\n",
       "      <th>182</th>\n",
       "      <td>183</td>\n",
       "      <td>445.0</td>\n",
       "    </tr>\n",
       "    <tr>\n",
       "      <th>183</th>\n",
       "      <td>184</td>\n",
       "      <td>450.0</td>\n",
       "    </tr>\n",
       "    <tr>\n",
       "      <th>184</th>\n",
       "      <td>185</td>\n",
       "      <td>400.0</td>\n",
       "    </tr>\n",
       "    <tr>\n",
       "      <th>185</th>\n",
       "      <td>186</td>\n",
       "      <td>460.0</td>\n",
       "    </tr>\n",
       "    <tr>\n",
       "      <th>412</th>\n",
       "      <td>413</td>\n",
       "      <td>900.0</td>\n",
       "    </tr>\n",
       "    <tr>\n",
       "      <th>413</th>\n",
       "      <td>414</td>\n",
       "      <td>850.0</td>\n",
       "    </tr>\n",
       "    <tr>\n",
       "      <th>414</th>\n",
       "      <td>415</td>\n",
       "      <td>650.0</td>\n",
       "    </tr>\n",
       "    <tr>\n",
       "      <th>421</th>\n",
       "      <td>422</td>\n",
       "      <td>1050.0</td>\n",
       "    </tr>\n",
       "    <tr>\n",
       "      <th>422</th>\n",
       "      <td>423</td>\n",
       "      <td>1000.0</td>\n",
       "    </tr>\n",
       "    <tr>\n",
       "      <th>423</th>\n",
       "      <td>424</td>\n",
       "      <td>890.0</td>\n",
       "    </tr>\n",
       "    <tr>\n",
       "      <th>500</th>\n",
       "      <td>501</td>\n",
       "      <td>215.0</td>\n",
       "    </tr>\n",
       "    <tr>\n",
       "      <th>513</th>\n",
       "      <td>514</td>\n",
       "      <td>317.0</td>\n",
       "    </tr>\n",
       "    <tr>\n",
       "      <th>541</th>\n",
       "      <td>542</td>\n",
       "      <td>218.0</td>\n",
       "    </tr>\n",
       "    <tr>\n",
       "      <th>542</th>\n",
       "      <td>543</td>\n",
       "      <td>215.0</td>\n",
       "    </tr>\n",
       "    <tr>\n",
       "      <th>543</th>\n",
       "      <td>544</td>\n",
       "      <td>185.0</td>\n",
       "    </tr>\n",
       "    <tr>\n",
       "      <th>544</th>\n",
       "      <td>545</td>\n",
       "      <td>189.0</td>\n",
       "    </tr>\n",
       "    <tr>\n",
       "      <th>545</th>\n",
       "      <td>546</td>\n",
       "      <td>168.0</td>\n",
       "    </tr>\n",
       "    <tr>\n",
       "      <th>546</th>\n",
       "      <td>547</td>\n",
       "      <td>149.0</td>\n",
       "    </tr>\n",
       "    <tr>\n",
       "      <th>554</th>\n",
       "      <td>555</td>\n",
       "      <td>317.0</td>\n",
       "    </tr>\n",
       "    <tr>\n",
       "      <th>555</th>\n",
       "      <td>556</td>\n",
       "      <td>600.0</td>\n",
       "    </tr>\n",
       "    <tr>\n",
       "      <th>556</th>\n",
       "      <td>557</td>\n",
       "      <td>635.0</td>\n",
       "    </tr>\n",
       "    <tr>\n",
       "      <th>557</th>\n",
       "      <td>558</td>\n",
       "      <td>575.0</td>\n",
       "    </tr>\n",
       "    <tr>\n",
       "      <th>600</th>\n",
       "      <td>601</td>\n",
       "      <td>223.0</td>\n",
       "    </tr>\n",
       "    <tr>\n",
       "      <th>601</th>\n",
       "      <td>602</td>\n",
       "      <td>168.0</td>\n",
       "    </tr>\n",
       "    <tr>\n",
       "      <th>602</th>\n",
       "      <td>603</td>\n",
       "      <td>170.0</td>\n",
       "    </tr>\n",
       "  </tbody>\n",
       "</table>\n",
       "</div>"
      ],
      "text/plain": [
       "     ProductKey  Weight\n",
       "179         180   435.0\n",
       "180         181   450.0\n",
       "181         182   400.0\n",
       "182         183   445.0\n",
       "183         184   450.0\n",
       "184         185   400.0\n",
       "185         186   460.0\n",
       "412         413   900.0\n",
       "413         414   850.0\n",
       "414         415   650.0\n",
       "421         422  1050.0\n",
       "422         423  1000.0\n",
       "423         424   890.0\n",
       "500         501   215.0\n",
       "513         514   317.0\n",
       "541         542   218.0\n",
       "542         543   215.0\n",
       "543         544   185.0\n",
       "544         545   189.0\n",
       "545         546   168.0\n",
       "546         547   149.0\n",
       "554         555   317.0\n",
       "555         556   600.0\n",
       "556         557   635.0\n",
       "557         558   575.0\n",
       "600         601   223.0\n",
       "601         602   168.0\n",
       "602         603   170.0"
      ]
     },
     "execution_count": 46,
     "metadata": {},
     "output_type": "execute_result"
    }
   ],
   "source": [
    "filtro = dimproduct[\"Weight\"] > 100\n",
    "colonne = [\"ProductKey\", \"Weight\"]\n",
    "dimproduct.loc[filtro, colonne]"
   ]
  },
  {
   "cell_type": "code",
   "execution_count": 49,
   "id": "47b44a6e-4dcf-4f14-90ba-065e7a2a98ae",
   "metadata": {},
   "outputs": [
    {
     "data": {
      "text/plain": [
       "448.5970597468353"
      ]
     },
     "execution_count": 49,
     "metadata": {},
     "output_type": "execute_result"
    }
   ],
   "source": [
    "dimproduct[\"DealerPrice\"].mean()"
   ]
  },
  {
   "cell_type": "code",
   "execution_count": 54,
   "id": "0d2aec09-f01d-4214-8ae3-ead9d2471fdf",
   "metadata": {},
   "outputs": [
    {
     "data": {
      "text/plain": [
       "count     395.000000\n",
       "mean      448.597060\n",
       "std       503.225071\n",
       "min         1.374000\n",
       "25%        41.994000\n",
       "50%       218.454000\n",
       "75%       722.594900\n",
       "max      2146.962000\n",
       "Name: DealerPrice, dtype: float64"
      ]
     },
     "execution_count": 54,
     "metadata": {},
     "output_type": "execute_result"
    }
   ],
   "source": [
    "dimproduct[\"DealerPrice\"].describe()"
   ]
  },
  {
   "cell_type": "code",
   "execution_count": null,
   "id": "29264998-da66-4c1e-9f45-884ab12fd6d1",
   "metadata": {},
   "outputs": [],
   "source": []
  }
 ],
 "metadata": {
  "kernelspec": {
   "display_name": "Python [conda env:base] *",
   "language": "python",
   "name": "conda-base-py"
  },
  "language_info": {
   "codemirror_mode": {
    "name": "ipython",
    "version": 3
   },
   "file_extension": ".py",
   "mimetype": "text/x-python",
   "name": "python",
   "nbconvert_exporter": "python",
   "pygments_lexer": "ipython3",
   "version": "3.12.7"
  }
 },
 "nbformat": 4,
 "nbformat_minor": 5
}
