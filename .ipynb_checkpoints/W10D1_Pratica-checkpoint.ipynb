{
 "cells": [
  {
   "cell_type": "code",
   "execution_count": 2,
   "id": "794f732d-4d59-4ac8-aa1c-1b448c090994",
   "metadata": {},
   "outputs": [
    {
     "name": "stdout",
     "output_type": "stream",
     "text": [
      "7\n"
     ]
    }
   ],
   "source": [
    "\"\"\"Esercizio 1\n",
    "Abbiamo una lista di liste: \"\"\"\n",
    "\n",
    "mat = [[0, 1, 2, 3, 4], [5, 6, 7, 8, 9], [10, 11, 12, 13, 14]] \n",
    "\n",
    "\"\"\"Che tipo di struttura dati o matematica potrebbe rappresentare? Una matrice oppure array bidimensionale con tre righe e 5 colonne.\n",
    "Notare che tutte le liste \"interne\" sono della stessa dimensione Come facciamo per accedere ad un elemento in particolare? \n",
    "si puo accedere ad un elemento in particolare specificando l'indice della riga per primo e poi l'indice della colonna.\n",
    "\"\"\"\n",
    "# Passo 1: Identificare la riga e la colonna dell'elemento desiderato.\n",
    "# \"7\" si trova nella seconda riga e nella terza colonna.\n",
    "# Ricorda che gli indici partono da 0, quindi la seconda riga ha indice 1 e la terza colonna ha indice 2.\n",
    "\n",
    "# Passo 2: Utilizzare gli indici per accedere all'elemento.\n",
    "elemento = mat[1][2]\n",
    "\n",
    "# Passo 3: Stampare o utilizzare l'elemento.\n",
    "print(elemento)  # Output: 7\n",
    "\n",
    "\n"
   ]
  },
  {
   "cell_type": "code",
   "execution_count": 6,
   "id": "1841561a-798a-499b-ae72-0a208c6002b6",
   "metadata": {},
   "outputs": [
    {
     "name": "stdout",
     "output_type": "stream",
     "text": [
      "Seno di π/2: 1.0\n",
      "Coseno di π/2: 6.123233995736766e-17\n",
      "Fattoriale di 5: 120\n",
      "Valore di π: 3.141592653589793\n"
     ]
    }
   ],
   "source": [
    "\"\"\"Esercizio 2\n",
    "Importiamo il modulo math e proviamo a usare le funzioni \n",
    ".sin() \n",
    ".cos() \n",
    ".factorial() e la variabile \n",
    ".pi \n",
    "la riconoscete?\"\"\"\n",
    "\n",
    "import math\n",
    "angolo_radianti = math.pi / 2 #90 gradi\n",
    "seno = math.sin(angolo_radianti)\n",
    "coseno = math.cos(angolo_radianti)\n",
    "fattoriale = math.factorial(5)\n",
    "pi_valore = math.pi\n",
    "\n",
    "#stampiamo i risultati\n",
    "print(f\"Seno di π/2: {seno}\")\n",
    "print(f\"Coseno di π/2: {coseno}\")\n",
    "print(f\"Fattoriale di 5: {fattoriale}\")\n",
    "print(f\"Valore di π: {pi_valore}\")\n"
   ]
  },
  {
   "cell_type": "code",
   "execution_count": 10,
   "id": "79841efb-8cb1-4fd7-a79a-95a00059b383",
   "metadata": {},
   "outputs": [
    {
     "name": "stdout",
     "output_type": "stream",
     "text": [
      "Help on built-in function degrees in module math:\n",
      "\n",
      "degrees(x, /)\n",
      "    Convert angle x from radians to degrees.\n",
      "\n"
     ]
    },
    {
     "data": {
      "text/plain": [
       "180.0"
      ]
     },
     "execution_count": 10,
     "metadata": {},
     "output_type": "execute_result"
    }
   ],
   "source": [
    "\"\"\" Esercizio 3\n",
    "Proviamo a eseguire \n",
    "\n",
    "math.degrees(math.pi) \n",
    "\n",
    "Qual è e cosa significa il risultato? Per saperne di più su questa funzione possiamo usare help(math.degrees)\n",
    "\n",
    "la funzione math.degrees() converte un valore angolare espresso in radianti (nel nostro caso math.pi, che equivale a π radianti) in gradi. Poiché π radianti corrispondono a 180 gradi (in base alla relazione \n",
    "1 radian = 180/𝜋 gradi), il risultato è appunto 180.0.\"\"\"\n",
    "\n",
    "help(math.degrees)\n",
    "math.degrees(math.pi) "
   ]
  },
  {
   "cell_type": "code",
   "execution_count": 16,
   "id": "a3b9bf5c-f3dd-417b-9f87-2ed282774c02",
   "metadata": {},
   "outputs": [
    {
     "name": "stdout",
     "output_type": "stream",
     "text": [
      "Vendita massima mensile: 8150\n",
      "Vendita minima mensile: 1280\n",
      "Vendite maggiori di 4999: [5500 7200 6410 8150 7100 5350]\n",
      "Numero vendite maggiori di 4999: 6\n",
      "Vendite minori di 3000: [2000 1280 1900 2500]\n",
      "Media vendite mensili: 4634.17\n"
     ]
    }
   ],
   "source": [
    "\"\"\"Esercizio 3\n",
    "L'azienda Object SpA ha creato una lista di quanti oggetti ha venduto ogni mese nell'ultimo anno: \n",
    "\n",
    "lst = [2000, 5500, 7200, 4320, 1280, 1900, 2500, 3900, 6410, 8150, 7100, 5350] \n",
    "\n",
    "trasformiamola in un array NumPy (casting): \n",
    "\n",
    "lst = np.array(lst) \n",
    "\n",
    "e rispondiamo alle domande del CEO della Object SpA: \n",
    "• qual è stata la vendita massima mensile? E quella minima? \n",
    "• quali sono le vendite mensili maggiori di 4999 oggetti? E quante ne sono? \n",
    "• quali sono le vendite minori di 3000 oggetti?\n",
    "• in media quanti oggetti sono stati venduti al mese?\n",
    "\"\"\"\n",
    "\n",
    "import numpy as np\n",
    "lst = [2000, 5500, 7200, 4320, 1280, 1900, 2500, 3900, 6410, 8150, 7100, 5350] \n",
    "lst = np.array(lst) \n",
    "\n",
    "vendita_massima = np.max(lst)\n",
    "vendita_minima = np.min(lst)\n",
    "\n",
    "vendite_maggiori = lst[lst > 4999]\n",
    "x = len(vendite_maggiori) # x rappresenta il numero di vendite maggiori di 4999\n",
    "\n",
    "vendite_minori = lst[lst < 3000]\n",
    "\n",
    "media_vendite = np.mean(lst)\n",
    "\n",
    "print(f\"Vendita massima mensile: {vendita_massima}\")\n",
    "print(f\"Vendita minima mensile: {vendita_minima}\")\n",
    "print(f\"Vendite maggiori di 4999: {vendite_maggiori}\") \n",
    "print(f\"Numero vendite maggiori di 4999: {x}\") \n",
    "print(f\"Vendite minori di 3000: {vendite_minori}\")\n",
    "print(f\"Media vendite mensili: {media_vendite:.2f}\")\n"
   ]
  },
  {
   "cell_type": "code",
   "execution_count": 22,
   "id": "5e635700-4461-488c-9ff8-df40bd5104c9",
   "metadata": {},
   "outputs": [
    {
     "data": {
      "text/plain": [
       "12000"
      ]
     },
     "execution_count": 22,
     "metadata": {},
     "output_type": "execute_result"
    }
   ],
   "source": [
    "\"\"\"Esercizio 4\n",
    "Consideriamo il seguente dizionario: \n",
    "\n",
    "fatturati_dict = {1997: 12_000, 1998: 15_000, 1999: 20_000, 2000: 23_000, 2001: 25_000, 2002: 17_000, 2003: 14_000, 2004: 21_000} \n",
    "\n",
    "Consideriamo ora la seguente Series: \n",
    "\n",
    "fatturati_series = pd.Series([12_000, 15_000, 20_000, 23_000, 25_000, 17_000, 14_000, 21_000], index=range(1997, 2005)) \n",
    "\n",
    "Possiamo accedere alle stesse informazioni nello stesso modo: \n",
    "fatturati_dict[1997] \n",
    "fatturati_series[1997] \n",
    "\n",
    "Dunque qual è la differenza tra i due tipi di dato?\n",
    "Cosa potremmo fare con la Series che non possiamo fare con il dizionario?\"\"\"\n",
    "\n",
    "import pandas as pd\n",
    "\n",
    "fatturati_dict = {1997: 12_000, 1998: 15_000, 1999: 20_000, 2000: 23_000, 2001: 25_000, 2002: 17_000, 2003: 14_000, 2004: 21_000} \n",
    "fatturati_series = pd.Series([12_000, 15_000, 20_000, 23_000, 25_000, 17_000, 14_000, 21_000], index=range(1997, 2005)) \n",
    "\n",
    "fatturati_dict[1997] \n",
    "fatturati_series[1997] \n",
    "\n",
    "\"\"\"La differenza principale tra un dizionario di Python e una Series di Pandas è che mentre un dizionario è una struttura dati che mappa chiavi a valori, \n",
    "una Series è una struttura dati di Pandas che mappa indici a valori. \n",
    "Una Series può essere pensata come una colonna di un DataFrame, con un indice che può essere personalizzato o impostato automaticamente. \n",
    "Ad esempio, in una Series, puoi accedere a un elemento specifico utilizzando l'indice, proprio come accedere a un elemento in un dizionario utilizzando una chiave. \n",
    "Tuttavia, una Series ha anche metodi aggiuntivi per il calcolo statistico e l'analisi dei dati che non sono disponibili in un dizionario standard.\n",
    "\n",
    "Cosa possiamo fare con una Series che non possiamo fare con un dizionario? Una delle differenze chiave è che una Series supporta operazioni di calcolo e aggregazione dirette, \n",
    "come il calcolo di statistiche descrittive (ad esempio, la media, la mediana, la deviazione standard) su un insieme di dati. \n",
    "Inoltre, una Series può essere utilizzata per il raggruppamento e la filtrazione dei dati in base a condizioni logiche, \n",
    "operazioni che richiederebbero codice più complesso se implementate con un dizionario standard.\n",
    "\n",
    "Inoltre, una Series può essere facilmente combinata con altre Series o DataFrames per formare strutture dati più complesse, \n",
    "supportando operazioni come il merge e l'aggregazione di dati, che non sono direttamente supportate dai dizionari.\"\"\"\n",
    "\n"
   ]
  },
  {
   "cell_type": "code",
   "execution_count": null,
   "id": "e115bb4b-0d5f-4232-9347-11644a2c81fc",
   "metadata": {},
   "outputs": [],
   "source": []
  }
 ],
 "metadata": {
  "kernelspec": {
   "display_name": "Python [conda env:base] *",
   "language": "python",
   "name": "conda-base-py"
  },
  "language_info": {
   "codemirror_mode": {
    "name": "ipython",
    "version": 3
   },
   "file_extension": ".py",
   "mimetype": "text/x-python",
   "name": "python",
   "nbconvert_exporter": "python",
   "pygments_lexer": "ipython3",
   "version": "3.12.7"
  }
 },
 "nbformat": 4,
 "nbformat_minor": 5
}
