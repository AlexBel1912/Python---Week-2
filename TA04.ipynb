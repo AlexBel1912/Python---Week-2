{
 "cells": [
  {
   "cell_type": "markdown",
   "id": "dcd37c48-37dd-4386-b3b1-06d470660eb8",
   "metadata": {},
   "source": [
    "# W10D1 - Pratica\n",
    "## Slide 2"
   ]
  },
  {
   "cell_type": "code",
   "execution_count": 1,
   "id": "2161213e-5803-4411-ad22-8adc707ff716",
   "metadata": {
    "tags": []
   },
   "outputs": [],
   "source": [
    "mat = [[0,  1,  2,  3,  4], [5,  6,  7,  8,  9], [10, 11, 12, 13, 14]]"
   ]
  },
  {
   "cell_type": "code",
   "execution_count": 2,
   "id": "787c2278-5d48-4c83-81aa-b5ea94de37d6",
   "metadata": {
    "tags": []
   },
   "outputs": [
    {
     "data": {
      "text/plain": [
       "11"
      ]
     },
     "execution_count": 2,
     "metadata": {},
     "output_type": "execute_result"
    }
   ],
   "source": [
    "mat[2][1]"
   ]
  },
  {
   "cell_type": "markdown",
   "id": "1a601a23-94e3-4ca6-a016-e58558170e9a",
   "metadata": {},
   "source": [
    "## Slide 3"
   ]
  },
  {
   "cell_type": "code",
   "execution_count": 3,
   "id": "53481129-82db-4b71-bbc9-620740354075",
   "metadata": {
    "tags": []
   },
   "outputs": [],
   "source": [
    "import math"
   ]
  },
  {
   "cell_type": "code",
   "execution_count": 4,
   "id": "a8ab2e39-bec4-4e46-a9ee-f79b88945a96",
   "metadata": {
    "tags": []
   },
   "outputs": [
    {
     "data": {
      "text/plain": [
       "-0.9999987317275395"
      ]
     },
     "execution_count": 4,
     "metadata": {},
     "output_type": "execute_result"
    }
   ],
   "source": [
    "math.cos(3.14)"
   ]
  },
  {
   "cell_type": "code",
   "execution_count": 5,
   "id": "70c93122-51d9-42e2-994b-26e823ab317a",
   "metadata": {
    "tags": []
   },
   "outputs": [
    {
     "data": {
      "text/plain": [
       "3628800"
      ]
     },
     "execution_count": 5,
     "metadata": {},
     "output_type": "execute_result"
    }
   ],
   "source": [
    "math.factorial(10)"
   ]
  },
  {
   "cell_type": "code",
   "execution_count": 6,
   "id": "638ab55c-7030-4835-a19f-b676bb4ac7ce",
   "metadata": {
    "tags": []
   },
   "outputs": [
    {
     "data": {
      "text/plain": [
       "3.141592653589793"
      ]
     },
     "execution_count": 6,
     "metadata": {},
     "output_type": "execute_result"
    }
   ],
   "source": [
    "math.pi"
   ]
  },
  {
   "cell_type": "markdown",
   "id": "32c71662-1eef-45fd-aa82-5ec7b6159851",
   "metadata": {},
   "source": [
    "## Slide 4"
   ]
  },
  {
   "cell_type": "code",
   "execution_count": 7,
   "id": "9eb1a2c6-b789-4923-a250-e3f6800f747f",
   "metadata": {
    "tags": []
   },
   "outputs": [
    {
     "data": {
      "text/plain": [
       "360.0"
      ]
     },
     "execution_count": 7,
     "metadata": {},
     "output_type": "execute_result"
    }
   ],
   "source": [
    "math.degrees(2 * math.pi)"
   ]
  },
  {
   "cell_type": "code",
   "execution_count": 8,
   "id": "eb60e00a-8b3b-4ead-bc00-e4ac42034142",
   "metadata": {
    "tags": []
   },
   "outputs": [
    {
     "name": "stdout",
     "output_type": "stream",
     "text": [
      "Help on built-in function degrees in module math:\n",
      "\n",
      "degrees(x, /)\n",
      "    Convert angle x from radians to degrees.\n",
      "\n"
     ]
    }
   ],
   "source": [
    "help( math.degrees )"
   ]
  },
  {
   "cell_type": "code",
   "execution_count": 9,
   "id": "fccfeca2-7f6c-4912-89a0-ef54544187d8",
   "metadata": {
    "tags": []
   },
   "outputs": [
    {
     "name": "stdout",
     "output_type": "stream",
     "text": [
      "Help on built-in function sin in module math:\n",
      "\n",
      "sin(x, /)\n",
      "    Return the sine of x (measured in radians).\n",
      "\n"
     ]
    }
   ],
   "source": [
    "help( math.sin )"
   ]
  },
  {
   "cell_type": "code",
   "execution_count": 10,
   "id": "9dbd7cb6-e2ed-46e4-b365-f900abde1211",
   "metadata": {
    "tags": []
   },
   "outputs": [],
   "source": [
    "import numpy as np"
   ]
  },
  {
   "cell_type": "code",
   "execution_count": 11,
   "id": "0f004bb5-23a1-42f1-bf34-153e17d002fd",
   "metadata": {
    "tags": []
   },
   "outputs": [
    {
     "data": {
      "text/plain": [
       "[[0, 1, 2, 3, 4], [5, 6, 7, 8, 9], [10, 11, 12, 13, 14]]"
      ]
     },
     "execution_count": 11,
     "metadata": {},
     "output_type": "execute_result"
    }
   ],
   "source": [
    "mat"
   ]
  },
  {
   "cell_type": "code",
   "execution_count": 12,
   "id": "edde9747-5dc9-4f9b-80b4-d1ff7f8de07f",
   "metadata": {
    "tags": []
   },
   "outputs": [],
   "source": [
    "maty = np.array(mat)  # casting"
   ]
  },
  {
   "cell_type": "code",
   "execution_count": 13,
   "id": "fce70709-41c1-4271-ab86-68895bec55f5",
   "metadata": {
    "tags": []
   },
   "outputs": [
    {
     "data": {
      "text/plain": [
       "numpy.ndarray"
      ]
     },
     "execution_count": 13,
     "metadata": {},
     "output_type": "execute_result"
    }
   ],
   "source": [
    "type(maty)"
   ]
  },
  {
   "cell_type": "code",
   "execution_count": 14,
   "id": "602e6f96-96e9-48c2-99b0-a035fa6c4ae4",
   "metadata": {
    "tags": []
   },
   "outputs": [
    {
     "data": {
      "text/plain": [
       "array([[ 0,  1,  2,  3,  4],\n",
       "       [ 5,  6,  7,  8,  9],\n",
       "       [10, 11, 12, 13, 14]])"
      ]
     },
     "execution_count": 14,
     "metadata": {},
     "output_type": "execute_result"
    }
   ],
   "source": [
    "maty"
   ]
  },
  {
   "cell_type": "code",
   "execution_count": 15,
   "id": "7ac4716e-7276-46df-8c99-2db01d86303f",
   "metadata": {
    "tags": []
   },
   "outputs": [
    {
     "data": {
      "text/plain": [
       "8"
      ]
     },
     "execution_count": 15,
     "metadata": {},
     "output_type": "execute_result"
    }
   ],
   "source": [
    "int( maty[1, 3] )"
   ]
  },
  {
   "cell_type": "markdown",
   "id": "de75cfb8-112d-4b53-9229-50945d98be9e",
   "metadata": {},
   "source": [
    "## Slide 5"
   ]
  },
  {
   "cell_type": "code",
   "execution_count": 16,
   "id": "cc4d38d1-fb52-40b1-9599-b128c5493943",
   "metadata": {
    "tags": []
   },
   "outputs": [],
   "source": [
    "lst = [2000, 5500, 7200, 4320, 1280, 1900,\n",
    "       2500, 3900, 6410, 8150, 7100, 5350]\n",
    "lst = np.array(lst)"
   ]
  },
  {
   "cell_type": "code",
   "execution_count": 17,
   "id": "1de239cf-528b-4b9c-98aa-9d694a825421",
   "metadata": {
    "tags": []
   },
   "outputs": [
    {
     "data": {
      "text/plain": [
       "numpy.ndarray"
      ]
     },
     "execution_count": 17,
     "metadata": {},
     "output_type": "execute_result"
    }
   ],
   "source": [
    "type(lst)"
   ]
  },
  {
   "cell_type": "code",
   "execution_count": 18,
   "id": "b6e83545-3519-4a8f-82da-e644b878b314",
   "metadata": {
    "tags": []
   },
   "outputs": [
    {
     "data": {
      "text/plain": [
       "np.int64(8150)"
      ]
     },
     "execution_count": 18,
     "metadata": {},
     "output_type": "execute_result"
    }
   ],
   "source": [
    "lst.max()"
   ]
  },
  {
   "cell_type": "code",
   "execution_count": 19,
   "id": "3fd3fae4-5b52-4721-aafa-ba20b5cf0e4c",
   "metadata": {
    "tags": []
   },
   "outputs": [
    {
     "data": {
      "text/plain": [
       "np.int64(1280)"
      ]
     },
     "execution_count": 19,
     "metadata": {},
     "output_type": "execute_result"
    }
   ],
   "source": [
    "lst.min()"
   ]
  },
  {
   "cell_type": "code",
   "execution_count": 20,
   "id": "8b999bef-bbd2-46d2-85fb-6e01de9cb7ad",
   "metadata": {
    "tags": []
   },
   "outputs": [
    {
     "name": "stdout",
     "output_type": "stream",
     "text": [
      "[5500 7200 6410 8150 7100 5350]\n"
     ]
    }
   ],
   "source": [
    "filtro = lst > 4999\n",
    "print(lst[filtro])"
   ]
  },
  {
   "cell_type": "markdown",
   "id": "94af3e2c-f964-4d2c-88df-f67753efc16b",
   "metadata": {},
   "source": [
    "### Masking e condizioni di estrazione"
   ]
  },
  {
   "cell_type": "code",
   "execution_count": 21,
   "id": "c2069307-e46c-41c2-a5a4-1c380deb4b8a",
   "metadata": {
    "tags": []
   },
   "outputs": [],
   "source": [
    "numeri = [1, 2, 5, 10, 20]"
   ]
  },
  {
   "cell_type": "code",
   "execution_count": 22,
   "id": "3bbcb41d-2387-4806-a45b-fcc96f8555ef",
   "metadata": {
    "tags": []
   },
   "outputs": [
    {
     "data": {
      "text/plain": [
       "[1, 2, 5, 10, 20, 1, 2, 5, 10, 20]"
      ]
     },
     "execution_count": 22,
     "metadata": {},
     "output_type": "execute_result"
    }
   ],
   "source": [
    "numeri * 2"
   ]
  },
  {
   "cell_type": "code",
   "execution_count": 23,
   "id": "ca12fafa-12d3-4d78-b9c6-3c96e983f655",
   "metadata": {
    "tags": []
   },
   "outputs": [
    {
     "data": {
      "text/plain": [
       "'abcabcabc'"
      ]
     },
     "execution_count": 23,
     "metadata": {},
     "output_type": "execute_result"
    }
   ],
   "source": [
    "\"abc\" * 3"
   ]
  },
  {
   "cell_type": "code",
   "execution_count": 24,
   "id": "0f330466-28d7-4a1c-997d-25e11e819311",
   "metadata": {
    "tags": []
   },
   "outputs": [
    {
     "name": "stdout",
     "output_type": "stream",
     "text": [
      "[1, 2, 5, 10, 20]\n",
      "[[0, 1, 2, 3, 4], [5, 6, 7, 8, 9], [10, 11, 12, 13, 14]]\n"
     ]
    }
   ],
   "source": [
    "print(numeri)\n",
    "a = 1 + 1\n",
    "print(mat)"
   ]
  },
  {
   "cell_type": "code",
   "execution_count": 25,
   "id": "73ab050d-1408-4bf8-bf01-c883e50a8abc",
   "metadata": {
    "tags": []
   },
   "outputs": [],
   "source": [
    "numery = np.array(numeri)"
   ]
  },
  {
   "cell_type": "code",
   "execution_count": 26,
   "id": "43ef69ae-5124-48ac-88c7-3fe608b16102",
   "metadata": {
    "tags": []
   },
   "outputs": [
    {
     "data": {
      "text/plain": [
       "array([ 0.5,  1. ,  2.5,  5. , 10. ])"
      ]
     },
     "execution_count": 26,
     "metadata": {},
     "output_type": "execute_result"
    }
   ],
   "source": [
    "numery / 2"
   ]
  },
  {
   "cell_type": "code",
   "execution_count": 27,
   "id": "8a8f4464-aece-44c8-9fd1-d26b9015f6da",
   "metadata": {
    "tags": []
   },
   "outputs": [
    {
     "data": {
      "text/plain": [
       "array([ 2,  4, 10, 20, 40])"
      ]
     },
     "execution_count": 27,
     "metadata": {},
     "output_type": "execute_result"
    }
   ],
   "source": [
    "numery * 2"
   ]
  },
  {
   "cell_type": "code",
   "execution_count": 28,
   "id": "324b44b9-b8ed-49e5-9366-4f30f3f2d5f9",
   "metadata": {
    "tags": []
   },
   "outputs": [
    {
     "data": {
      "text/plain": [
       "array([ 1,  2,  5, 10, 20])"
      ]
     },
     "execution_count": 28,
     "metadata": {},
     "output_type": "execute_result"
    }
   ],
   "source": [
    "numery"
   ]
  },
  {
   "cell_type": "code",
   "execution_count": 29,
   "id": "08c035c2-86a4-4d0b-8f1f-540914e92e4e",
   "metadata": {
    "tags": []
   },
   "outputs": [
    {
     "data": {
      "text/plain": [
       "array([             1,           1024,        9765625,    10000000000,\n",
       "       10240000000000])"
      ]
     },
     "execution_count": 29,
     "metadata": {},
     "output_type": "execute_result"
    }
   ],
   "source": [
    "numery ** 10"
   ]
  },
  {
   "cell_type": "code",
   "execution_count": 30,
   "id": "2e126445-31d6-4aeb-8bf7-c832e613cb42",
   "metadata": {
    "tags": []
   },
   "outputs": [
    {
     "data": {
      "text/plain": [
       "array([1001, 1002, 1005, 1010, 1020])"
      ]
     },
     "execution_count": 30,
     "metadata": {},
     "output_type": "execute_result"
    }
   ],
   "source": [
    "numery + 1000"
   ]
  },
  {
   "cell_type": "code",
   "execution_count": 31,
   "id": "fa47dce2-fe8a-4b4d-9cfa-2f1c86868c9b",
   "metadata": {
    "tags": []
   },
   "outputs": [
    {
     "data": {
      "text/plain": [
       "array([False, False,  True,  True,  True])"
      ]
     },
     "execution_count": 31,
     "metadata": {},
     "output_type": "execute_result"
    }
   ],
   "source": [
    "numery >= 5"
   ]
  },
  {
   "cell_type": "code",
   "execution_count": 32,
   "id": "69f4fa64-a861-4aea-9adb-38da2e76db86",
   "metadata": {
    "tags": []
   },
   "outputs": [
    {
     "data": {
      "text/plain": [
       "array([ 1,  2,  5, 10, 20])"
      ]
     },
     "execution_count": 32,
     "metadata": {},
     "output_type": "execute_result"
    }
   ],
   "source": [
    "numery"
   ]
  },
  {
   "cell_type": "code",
   "execution_count": 33,
   "id": "d9aa9061-e374-4a57-a7ee-ef2bf1b27bf6",
   "metadata": {
    "tags": []
   },
   "outputs": [],
   "source": [
    "filtro = lst > 4999"
   ]
  },
  {
   "cell_type": "code",
   "execution_count": 34,
   "id": "44b38636-88c0-4532-a4a3-91c81a895ba9",
   "metadata": {
    "tags": []
   },
   "outputs": [
    {
     "data": {
      "text/plain": [
       "array([False,  True,  True, False, False, False, False, False,  True,\n",
       "        True,  True,  True])"
      ]
     },
     "execution_count": 34,
     "metadata": {},
     "output_type": "execute_result"
    }
   ],
   "source": [
    "filtro"
   ]
  },
  {
   "cell_type": "code",
   "execution_count": 35,
   "id": "64671dbd-4910-44fe-9b01-16bfa55b81cc",
   "metadata": {
    "tags": []
   },
   "outputs": [
    {
     "data": {
      "text/plain": [
       "array([2000, 5500, 7200, 4320, 1280, 1900, 2500, 3900, 6410, 8150, 7100,\n",
       "       5350])"
      ]
     },
     "execution_count": 35,
     "metadata": {},
     "output_type": "execute_result"
    }
   ],
   "source": [
    "lst"
   ]
  },
  {
   "cell_type": "code",
   "execution_count": 36,
   "id": "19114b67-4405-4523-9c5e-49f146926fbb",
   "metadata": {
    "tags": []
   },
   "outputs": [
    {
     "data": {
      "text/plain": [
       "np.int64(7200)"
      ]
     },
     "execution_count": 36,
     "metadata": {},
     "output_type": "execute_result"
    }
   ],
   "source": [
    "lst[2]"
   ]
  },
  {
   "cell_type": "code",
   "execution_count": 37,
   "id": "32f06fdc-7164-442e-824c-d91897150cf3",
   "metadata": {
    "tags": []
   },
   "outputs": [
    {
     "data": {
      "text/plain": [
       "array([5500, 7200, 6410, 8150, 7100, 5350])"
      ]
     },
     "execution_count": 37,
     "metadata": {},
     "output_type": "execute_result"
    }
   ],
   "source": [
    "lst[filtro]"
   ]
  },
  {
   "cell_type": "code",
   "execution_count": 38,
   "id": "cb756f0c-427d-40db-b3ea-501b49b6a82a",
   "metadata": {
    "tags": []
   },
   "outputs": [
    {
     "data": {
      "text/plain": [
       "array([2000, 1280, 1900, 2500])"
      ]
     },
     "execution_count": 38,
     "metadata": {},
     "output_type": "execute_result"
    }
   ],
   "source": [
    "filtro = lst < 3000\n",
    "lst[filtro]"
   ]
  },
  {
   "cell_type": "code",
   "execution_count": 39,
   "id": "95d44a4c-42dd-463a-a157-329fe7c5b042",
   "metadata": {
    "tags": []
   },
   "outputs": [
    {
     "data": {
      "text/plain": [
       "6"
      ]
     },
     "execution_count": 39,
     "metadata": {},
     "output_type": "execute_result"
    }
   ],
   "source": [
    "filtro = lst > 4999\n",
    "lst_over_4999 = lst[filtro]\n",
    "len(lst_over_4999)"
   ]
  },
  {
   "cell_type": "code",
   "execution_count": 40,
   "id": "5a984156-11ea-471e-a35d-628e1ea65e38",
   "metadata": {
    "tags": []
   },
   "outputs": [
    {
     "data": {
      "text/plain": [
       "np.int64(6)"
      ]
     },
     "execution_count": 40,
     "metadata": {},
     "output_type": "execute_result"
    }
   ],
   "source": [
    "np.sum(filtro)"
   ]
  },
  {
   "cell_type": "code",
   "execution_count": 41,
   "id": "c612025d-3f58-4613-aac7-d71df957e02b",
   "metadata": {
    "tags": []
   },
   "outputs": [
    {
     "data": {
      "text/plain": [
       "np.float64(4634.166666666667)"
      ]
     },
     "execution_count": 41,
     "metadata": {},
     "output_type": "execute_result"
    }
   ],
   "source": [
    "lst.mean()"
   ]
  },
  {
   "cell_type": "code",
   "execution_count": 42,
   "id": "1cf583d7-5937-4148-8150-619c911f4115",
   "metadata": {
    "tags": []
   },
   "outputs": [
    {
     "data": {
      "text/plain": [
       "array([2000, 5500, 7200, 4320, 1280, 1900, 2500, 3900, 6410, 8150, 7100,\n",
       "       5350])"
      ]
     },
     "execution_count": 42,
     "metadata": {},
     "output_type": "execute_result"
    }
   ],
   "source": [
    "lst"
   ]
  },
  {
   "cell_type": "markdown",
   "id": "21dfe496-af68-44b2-a748-dc7011b4ef69",
   "metadata": {},
   "source": [
    "## Slide 6"
   ]
  },
  {
   "cell_type": "code",
   "execution_count": 43,
   "id": "0721e4df-479a-4e6f-9713-fb1b9b0e3865",
   "metadata": {
    "tags": []
   },
   "outputs": [],
   "source": [
    "import pandas as pd"
   ]
  },
  {
   "cell_type": "code",
   "execution_count": 44,
   "id": "8fd7e261-939e-4bfb-9704-2b7f96af9687",
   "metadata": {
    "tags": []
   },
   "outputs": [],
   "source": [
    "fatturati_dict = {1997: 12_000, 1998: 15_000,\n",
    "                  1999: 20_000, 2000: 23_000, 2001: 25_000,\n",
    "                  2002: 17_000, 2003: 14_000, 2004: 21_000}\n",
    "\n",
    "fatturati_series = pd.Series([12_000, 15_000, 20_000, \n",
    "                              23_000, 25_000, 17_000, 14_000, 21_000], \n",
    "                              index=range(1997, 2005))"
   ]
  },
  {
   "cell_type": "code",
   "execution_count": 45,
   "id": "f098cdf0-2613-44ad-b058-2d2578dbe361",
   "metadata": {
    "tags": []
   },
   "outputs": [
    {
     "data": {
      "text/plain": [
       "{1997: 12000,\n",
       " 1998: 15000,\n",
       " 1999: 20000,\n",
       " 2000: 23000,\n",
       " 2001: 25000,\n",
       " 2002: 17000,\n",
       " 2003: 14000,\n",
       " 2004: 21000}"
      ]
     },
     "execution_count": 45,
     "metadata": {},
     "output_type": "execute_result"
    }
   ],
   "source": [
    "fatturati_dict"
   ]
  },
  {
   "cell_type": "code",
   "execution_count": 46,
   "id": "962b4229-897e-4f8a-8e56-dfba8ab2f17e",
   "metadata": {
    "tags": []
   },
   "outputs": [
    {
     "data": {
      "text/plain": [
       "1997    12000\n",
       "1998    15000\n",
       "1999    20000\n",
       "2000    23000\n",
       "2001    25000\n",
       "2002    17000\n",
       "2003    14000\n",
       "2004    21000\n",
       "dtype: int64"
      ]
     },
     "execution_count": 46,
     "metadata": {},
     "output_type": "execute_result"
    }
   ],
   "source": [
    "fatturati_series"
   ]
  },
  {
   "cell_type": "code",
   "execution_count": 47,
   "id": "b0b74bc9-a0ba-468d-8de8-1a01815c99f4",
   "metadata": {
    "tags": []
   },
   "outputs": [
    {
     "data": {
      "text/plain": [
       "1998    15000\n",
       "1999    20000\n",
       "2000    23000\n",
       "dtype: int64"
      ]
     },
     "execution_count": 47,
     "metadata": {},
     "output_type": "execute_result"
    }
   ],
   "source": [
    "fatturati_series[1:4]"
   ]
  },
  {
   "cell_type": "code",
   "execution_count": 48,
   "id": "bb026f32-bac6-4407-bc41-fcd1c36da82a",
   "metadata": {
    "tags": []
   },
   "outputs": [
    {
     "data": {
      "text/plain": [
       "np.float64(18375.0)"
      ]
     },
     "execution_count": 48,
     "metadata": {},
     "output_type": "execute_result"
    }
   ],
   "source": [
    "fatturati_series.mean()"
   ]
  },
  {
   "cell_type": "markdown",
   "id": "7df0d64a-e1c1-4421-89f2-e1315be3f49a",
   "metadata": {},
   "source": [
    "## Slide 7"
   ]
  },
  {
   "cell_type": "code",
   "execution_count": 49,
   "id": "3eb950a1-efaf-420d-a26b-0b51a0d8b699",
   "metadata": {
    "tags": []
   },
   "outputs": [],
   "source": [
    "stipendi = np.array( [100, 200, 300, 400, 500,\n",
    "                      600, 700, 800, 900, 1000] )"
   ]
  },
  {
   "cell_type": "code",
   "execution_count": 50,
   "id": "9fbd1a71-41aa-4330-88f6-13528960cb2a",
   "metadata": {
    "tags": []
   },
   "outputs": [
    {
     "name": "stdout",
     "output_type": "stream",
     "text": [
      "[200, 400, 600, 800, 1000, 1200, 1400, 1600, 1800, 2000]\n"
     ]
    }
   ],
   "source": [
    "nuovi_stipendi = []\n",
    "for stipendio in stipendi:\n",
    "    nuovo_stipendio = stipendio * 2\n",
    "    nuovo_stipendio = int(nuovo_stipendio)\n",
    "    nuovi_stipendi.append(nuovo_stipendio)\n",
    "print(nuovi_stipendi)"
   ]
  },
  {
   "cell_type": "code",
   "execution_count": 51,
   "id": "b60e2de3-41ba-429b-8a38-4ace7ac2a691",
   "metadata": {
    "tags": []
   },
   "outputs": [
    {
     "name": "stdout",
     "output_type": "stream",
     "text": [
      "[ 200  400  600  800 1000 1200 1400 1600 1800 2000]\n"
     ]
    }
   ],
   "source": [
    "nuovi_stipendi = stipendi * 2\n",
    "print(nuovi_stipendi)"
   ]
  },
  {
   "cell_type": "code",
   "execution_count": 52,
   "id": "5df5ceaf-0bd1-481c-ac52-577154e57e00",
   "metadata": {
    "tags": []
   },
   "outputs": [
    {
     "data": {
      "text/plain": [
       "int"
      ]
     },
     "execution_count": 52,
     "metadata": {},
     "output_type": "execute_result"
    }
   ],
   "source": [
    "type(nuovo_stipendio)"
   ]
  },
  {
   "cell_type": "markdown",
   "id": "d4d59a73-ec66-49a1-9573-6b4a3de938fa",
   "metadata": {},
   "source": [
    "# W10D4 - Pratica\n",
    "## Slide 2"
   ]
  },
  {
   "cell_type": "code",
   "execution_count": 53,
   "id": "3b5482f6-a537-44f7-969e-c56e07901a83",
   "metadata": {
    "tags": []
   },
   "outputs": [],
   "source": [
    "%run \"connessione_a_database.ipynb\""
   ]
  },
  {
   "cell_type": "code",
   "execution_count": 54,
   "id": "77b196c6-8195-416a-ab12-337cbd1d0985",
   "metadata": {
    "tags": []
   },
   "outputs": [],
   "source": [
    "query = \"SELECT * FROM dimproduct\"\n",
    "dimproduct = pd.read_sql(query, db_engine)"
   ]
  },
  {
   "cell_type": "code",
   "execution_count": 55,
   "id": "5b8e5dea-3d4b-40b7-bb1f-6de66ee9315b",
   "metadata": {
    "tags": []
   },
   "outputs": [
    {
     "data": {
      "text/plain": [
       "(606, 36)"
      ]
     },
     "execution_count": 55,
     "metadata": {},
     "output_type": "execute_result"
    }
   ],
   "source": [
    "dimproduct.shape"
   ]
  },
  {
   "cell_type": "markdown",
   "id": "7657b045-1b9b-46c4-952a-cfd5e93de32f",
   "metadata": {},
   "source": [
    "### Attributi e metodi\n",
    "Ogni tipo di dato può avere (e in genere ha):\n",
    "* **Attributi**: variabili interne all'oggetto che contengono valori relativi all'oggetto stesso\n",
    "* **Metodi**: funzioni interne all'oggetto che operano sull'oggetto stesso"
   ]
  },
  {
   "cell_type": "code",
   "execution_count": 56,
   "id": "7d5f9e4e-d94d-4a42-aa27-d927329003dc",
   "metadata": {
    "tags": []
   },
   "outputs": [
    {
     "data": {
      "text/plain": [
       "Index(['ProductKey', 'ProductAlternateKey', 'ProductSubcategoryKey',\n",
       "       'WeightUnitMeasureCode', 'SizeUnitMeasureCode', 'EnglishProductName',\n",
       "       'SpanishProductName', 'FrenchProductName', 'StandardCost',\n",
       "       'FinishedGoodsFlag', 'Color', 'SafetyStockLevel', 'ReorderPoint',\n",
       "       'ListPrice', 'Size', 'SizeRange', 'Weight', 'DaysToManufacture',\n",
       "       'ProductLine', 'DealerPrice', 'Class', 'Style', 'ModelName',\n",
       "       'LargePhoto', 'EnglishDescription', 'FrenchDescription',\n",
       "       'ChineseDescription', 'ArabicDescription', 'HebrewDescription',\n",
       "       'ThaiDescription', 'GermanDescription', 'JapaneseDescription',\n",
       "       'TurkishDescription', 'StartDate', 'EndDate', 'Status'],\n",
       "      dtype='object')"
      ]
     },
     "execution_count": 56,
     "metadata": {},
     "output_type": "execute_result"
    }
   ],
   "source": [
    "dimproduct.columns"
   ]
  },
  {
   "cell_type": "code",
   "execution_count": 57,
   "id": "865f00ae-f805-4c75-97ed-51ae6725b8dc",
   "metadata": {
    "tags": []
   },
   "outputs": [
    {
     "name": "stdout",
     "output_type": "stream",
     "text": [
      "<class 'pandas.core.frame.DataFrame'>\n",
      "RangeIndex: 606 entries, 0 to 605\n",
      "Data columns (total 36 columns):\n",
      " #   Column                 Non-Null Count  Dtype         \n",
      "---  ------                 --------------  -----         \n",
      " 0   ProductKey             606 non-null    int64         \n",
      " 1   ProductAlternateKey    606 non-null    object        \n",
      " 2   ProductSubcategoryKey  397 non-null    float64       \n",
      " 3   WeightUnitMeasureCode  282 non-null    object        \n",
      " 4   SizeUnitMeasureCode    253 non-null    object        \n",
      " 5   EnglishProductName     606 non-null    object        \n",
      " 6   SpanishProductName     606 non-null    object        \n",
      " 7   FrenchProductName      606 non-null    object        \n",
      " 8   StandardCost           397 non-null    float64       \n",
      " 9   FinishedGoodsFlag      606 non-null    int64         \n",
      " 10  Color                  606 non-null    object        \n",
      " 11  SafetyStockLevel       606 non-null    int64         \n",
      " 12  ReorderPoint           606 non-null    int64         \n",
      " 13  ListPrice              395 non-null    float64       \n",
      " 14  Size                   299 non-null    object        \n",
      " 15  SizeRange              606 non-null    object        \n",
      " 16  Weight                 282 non-null    float64       \n",
      " 17  DaysToManufacture      606 non-null    int64         \n",
      " 18  ProductLine            380 non-null    object        \n",
      " 19  DealerPrice            395 non-null    float64       \n",
      " 20  Class                  330 non-null    object        \n",
      " 21  Style                  301 non-null    object        \n",
      " 22  ModelName              397 non-null    object        \n",
      " 23  LargePhoto             606 non-null    object        \n",
      " 24  EnglishDescription     396 non-null    object        \n",
      " 25  FrenchDescription      396 non-null    object        \n",
      " 26  ChineseDescription     396 non-null    object        \n",
      " 27  ArabicDescription      396 non-null    object        \n",
      " 28  HebrewDescription      396 non-null    object        \n",
      " 29  ThaiDescription        396 non-null    object        \n",
      " 30  GermanDescription      396 non-null    object        \n",
      " 31  JapaneseDescription    396 non-null    object        \n",
      " 32  TurkishDescription     396 non-null    object        \n",
      " 33  StartDate              606 non-null    datetime64[ns]\n",
      " 34  EndDate                200 non-null    datetime64[ns]\n",
      " 35  Status                 406 non-null    object        \n",
      "dtypes: datetime64[ns](2), float64(5), int64(5), object(24)\n",
      "memory usage: 170.6+ KB\n"
     ]
    }
   ],
   "source": [
    "dimproduct.info()"
   ]
  },
  {
   "cell_type": "code",
   "execution_count": 58,
   "id": "eca6bf69-fa4b-4952-bde3-d8fb64a3e8ef",
   "metadata": {
    "tags": []
   },
   "outputs": [
    {
     "data": {
      "text/html": [
       "<div>\n",
       "<style scoped>\n",
       "    .dataframe tbody tr th:only-of-type {\n",
       "        vertical-align: middle;\n",
       "    }\n",
       "\n",
       "    .dataframe tbody tr th {\n",
       "        vertical-align: top;\n",
       "    }\n",
       "\n",
       "    .dataframe thead th {\n",
       "        text-align: right;\n",
       "    }\n",
       "</style>\n",
       "<table border=\"1\" class=\"dataframe\">\n",
       "  <thead>\n",
       "    <tr style=\"text-align: right;\">\n",
       "      <th></th>\n",
       "      <th>ProductKey</th>\n",
       "      <th>ProductAlternateKey</th>\n",
       "      <th>ProductSubcategoryKey</th>\n",
       "      <th>WeightUnitMeasureCode</th>\n",
       "      <th>SizeUnitMeasureCode</th>\n",
       "      <th>EnglishProductName</th>\n",
       "      <th>SpanishProductName</th>\n",
       "      <th>FrenchProductName</th>\n",
       "      <th>StandardCost</th>\n",
       "      <th>FinishedGoodsFlag</th>\n",
       "      <th>...</th>\n",
       "      <th>ChineseDescription</th>\n",
       "      <th>ArabicDescription</th>\n",
       "      <th>HebrewDescription</th>\n",
       "      <th>ThaiDescription</th>\n",
       "      <th>GermanDescription</th>\n",
       "      <th>JapaneseDescription</th>\n",
       "      <th>TurkishDescription</th>\n",
       "      <th>StartDate</th>\n",
       "      <th>EndDate</th>\n",
       "      <th>Status</th>\n",
       "    </tr>\n",
       "  </thead>\n",
       "  <tbody>\n",
       "    <tr>\n",
       "      <th>0</th>\n",
       "      <td>1</td>\n",
       "      <td>AR-5381</td>\n",
       "      <td>NaN</td>\n",
       "      <td>None</td>\n",
       "      <td>None</td>\n",
       "      <td>Adjustable Race</td>\n",
       "      <td></td>\n",
       "      <td></td>\n",
       "      <td>NaN</td>\n",
       "      <td>0</td>\n",
       "      <td>...</td>\n",
       "      <td>None</td>\n",
       "      <td>None</td>\n",
       "      <td>None</td>\n",
       "      <td>None</td>\n",
       "      <td>None</td>\n",
       "      <td>None</td>\n",
       "      <td>None</td>\n",
       "      <td>2003-07-01</td>\n",
       "      <td>NaT</td>\n",
       "      <td>Current</td>\n",
       "    </tr>\n",
       "  </tbody>\n",
       "</table>\n",
       "<p>1 rows × 36 columns</p>\n",
       "</div>"
      ],
      "text/plain": [
       "   ProductKey ProductAlternateKey  ProductSubcategoryKey  \\\n",
       "0           1             AR-5381                    NaN   \n",
       "\n",
       "  WeightUnitMeasureCode SizeUnitMeasureCode EnglishProductName  \\\n",
       "0                  None                None    Adjustable Race   \n",
       "\n",
       "  SpanishProductName FrenchProductName  StandardCost  FinishedGoodsFlag  ...  \\\n",
       "0                                                NaN                  0  ...   \n",
       "\n",
       "  ChineseDescription  ArabicDescription  HebrewDescription  ThaiDescription  \\\n",
       "0               None               None               None             None   \n",
       "\n",
       "  GermanDescription JapaneseDescription  TurkishDescription  StartDate  \\\n",
       "0              None                None                None 2003-07-01   \n",
       "\n",
       "  EndDate   Status  \n",
       "0     NaT  Current  \n",
       "\n",
       "[1 rows x 36 columns]"
      ]
     },
     "execution_count": 58,
     "metadata": {},
     "output_type": "execute_result"
    }
   ],
   "source": [
    "dimproduct.head(1)"
   ]
  },
  {
   "cell_type": "code",
   "execution_count": 59,
   "id": "23b17506-0219-4c79-8d47-bec2bb9e36c3",
   "metadata": {
    "tags": []
   },
   "outputs": [
    {
     "data": {
      "text/html": [
       "<div>\n",
       "<style scoped>\n",
       "    .dataframe tbody tr th:only-of-type {\n",
       "        vertical-align: middle;\n",
       "    }\n",
       "\n",
       "    .dataframe tbody tr th {\n",
       "        vertical-align: top;\n",
       "    }\n",
       "\n",
       "    .dataframe thead th {\n",
       "        text-align: right;\n",
       "    }\n",
       "</style>\n",
       "<table border=\"1\" class=\"dataframe\">\n",
       "  <thead>\n",
       "    <tr style=\"text-align: right;\">\n",
       "      <th></th>\n",
       "      <th>ProductKey</th>\n",
       "      <th>ProductAlternateKey</th>\n",
       "      <th>ProductSubcategoryKey</th>\n",
       "      <th>WeightUnitMeasureCode</th>\n",
       "      <th>SizeUnitMeasureCode</th>\n",
       "      <th>EnglishProductName</th>\n",
       "      <th>SpanishProductName</th>\n",
       "      <th>FrenchProductName</th>\n",
       "      <th>StandardCost</th>\n",
       "      <th>FinishedGoodsFlag</th>\n",
       "      <th>...</th>\n",
       "      <th>ChineseDescription</th>\n",
       "      <th>ArabicDescription</th>\n",
       "      <th>HebrewDescription</th>\n",
       "      <th>ThaiDescription</th>\n",
       "      <th>GermanDescription</th>\n",
       "      <th>JapaneseDescription</th>\n",
       "      <th>TurkishDescription</th>\n",
       "      <th>StartDate</th>\n",
       "      <th>EndDate</th>\n",
       "      <th>Status</th>\n",
       "    </tr>\n",
       "  </thead>\n",
       "  <tbody>\n",
       "    <tr>\n",
       "      <th>605</th>\n",
       "      <td>606</td>\n",
       "      <td>BK-R19B-52</td>\n",
       "      <td>2.0</td>\n",
       "      <td>LB</td>\n",
       "      <td>CM</td>\n",
       "      <td>Road-750 Black, 52</td>\n",
       "      <td>Carretera: 750, negra, 52</td>\n",
       "      <td>Vélo de route 750 noir, 52</td>\n",
       "      <td>343.65</td>\n",
       "      <td>1</td>\n",
       "      <td>...</td>\n",
       "      <td>入门级成人自行车；确保越野旅行或公路骑乘的舒适。快拆式车毂和轮缘。</td>\n",
       "      <td>إنها دراجة مناسبة للمبتدئين من البالغين؛ فهي ت...</td>\n",
       "      <td>אופני מבוגרים למתחילים; מציעים רכיבה נוחה \"מחו...</td>\n",
       "      <td>จักรยานระดับเริ่มต้นสำหรับผู้ใหญ่ ให้ความสบายใ...</td>\n",
       "      <td>Ein Erwachsenenrad für Einsteiger; bietet Komf...</td>\n",
       "      <td>エントリー レベルに対応する、クロスカントリーにも街への買い物にも快適な、大人の自転車。ハブ...</td>\n",
       "      <td>\"Başlangıç seviyesinde yetişkin bisikleti, kır...</td>\n",
       "      <td>2013-07-01</td>\n",
       "      <td>NaT</td>\n",
       "      <td>Current</td>\n",
       "    </tr>\n",
       "  </tbody>\n",
       "</table>\n",
       "<p>1 rows × 36 columns</p>\n",
       "</div>"
      ],
      "text/plain": [
       "     ProductKey ProductAlternateKey  ProductSubcategoryKey  \\\n",
       "605         606          BK-R19B-52                    2.0   \n",
       "\n",
       "    WeightUnitMeasureCode SizeUnitMeasureCode  EnglishProductName  \\\n",
       "605                    LB                  CM  Road-750 Black, 52   \n",
       "\n",
       "            SpanishProductName           FrenchProductName  StandardCost  \\\n",
       "605  Carretera: 750, negra, 52  Vélo de route 750 noir, 52        343.65   \n",
       "\n",
       "     FinishedGoodsFlag  ...                 ChineseDescription  \\\n",
       "605                  1  ...  入门级成人自行车；确保越野旅行或公路骑乘的舒适。快拆式车毂和轮缘。   \n",
       "\n",
       "                                     ArabicDescription  \\\n",
       "605  إنها دراجة مناسبة للمبتدئين من البالغين؛ فهي ت...   \n",
       "\n",
       "                                     HebrewDescription  \\\n",
       "605  אופני מבוגרים למתחילים; מציעים רכיבה נוחה \"מחו...   \n",
       "\n",
       "                                       ThaiDescription  \\\n",
       "605  จักรยานระดับเริ่มต้นสำหรับผู้ใหญ่ ให้ความสบายใ...   \n",
       "\n",
       "                                     GermanDescription  \\\n",
       "605  Ein Erwachsenenrad für Einsteiger; bietet Komf...   \n",
       "\n",
       "                                   JapaneseDescription  \\\n",
       "605  エントリー レベルに対応する、クロスカントリーにも街への買い物にも快適な、大人の自転車。ハブ...   \n",
       "\n",
       "                                    TurkishDescription  StartDate EndDate  \\\n",
       "605  \"Başlangıç seviyesinde yetişkin bisikleti, kır... 2013-07-01     NaT   \n",
       "\n",
       "      Status  \n",
       "605  Current  \n",
       "\n",
       "[1 rows x 36 columns]"
      ]
     },
     "execution_count": 59,
     "metadata": {},
     "output_type": "execute_result"
    }
   ],
   "source": [
    "dimproduct.tail(1)"
   ]
  },
  {
   "cell_type": "code",
   "execution_count": 60,
   "id": "4fadf545-ff84-4c6d-a88a-a0e4bd6550d7",
   "metadata": {
    "tags": []
   },
   "outputs": [
    {
     "data": {
      "text/html": [
       "<div>\n",
       "<style scoped>\n",
       "    .dataframe tbody tr th:only-of-type {\n",
       "        vertical-align: middle;\n",
       "    }\n",
       "\n",
       "    .dataframe tbody tr th {\n",
       "        vertical-align: top;\n",
       "    }\n",
       "\n",
       "    .dataframe thead th {\n",
       "        text-align: right;\n",
       "    }\n",
       "</style>\n",
       "<table border=\"1\" class=\"dataframe\">\n",
       "  <thead>\n",
       "    <tr style=\"text-align: right;\">\n",
       "      <th></th>\n",
       "      <th>ProductKey</th>\n",
       "      <th>ProductAlternateKey</th>\n",
       "      <th>ProductSubcategoryKey</th>\n",
       "      <th>WeightUnitMeasureCode</th>\n",
       "      <th>SizeUnitMeasureCode</th>\n",
       "      <th>EnglishProductName</th>\n",
       "      <th>SpanishProductName</th>\n",
       "      <th>FrenchProductName</th>\n",
       "      <th>StandardCost</th>\n",
       "      <th>FinishedGoodsFlag</th>\n",
       "      <th>...</th>\n",
       "      <th>ChineseDescription</th>\n",
       "      <th>ArabicDescription</th>\n",
       "      <th>HebrewDescription</th>\n",
       "      <th>ThaiDescription</th>\n",
       "      <th>GermanDescription</th>\n",
       "      <th>JapaneseDescription</th>\n",
       "      <th>TurkishDescription</th>\n",
       "      <th>StartDate</th>\n",
       "      <th>EndDate</th>\n",
       "      <th>Status</th>\n",
       "    </tr>\n",
       "  </thead>\n",
       "  <tbody>\n",
       "    <tr>\n",
       "      <th>359</th>\n",
       "      <td>360</td>\n",
       "      <td>BK-M68B-42</td>\n",
       "      <td>1.0</td>\n",
       "      <td>LB</td>\n",
       "      <td>CM</td>\n",
       "      <td>Mountain-200 Black, 42</td>\n",
       "      <td>Montaña: 200, negra, 42</td>\n",
       "      <td>VTT 200 noir, 42</td>\n",
       "      <td>1105.81</td>\n",
       "      <td>1</td>\n",
       "      <td>...</td>\n",
       "      <td>适用于环境恶劣的野外骑乘。可应对各种比赛的完美赛车。使用与 Mountain-100 相同的...</td>\n",
       "      <td>لقيادة المحترفين في المناطق الريفية. دراجة مُث...</td>\n",
       "      <td>לרכיבה רצינית בשטחים נידחים. מתאימים לכל רמה ש...</td>\n",
       "      <td>สำหรับการขี่ในเส้นทางผจญภัย  เหมาะที่สุดสำหรับ...</td>\n",
       "      <td>Mountainbike für Profis. Perfekt für alle Schw...</td>\n",
       "      <td>バック カントリーまたは全レベルの競技用で、Mountain-100 と同じ HL フレーム...</td>\n",
       "      <td>Gerçek arazi sürüşü. Tüm yarışma seviyeleri iç...</td>\n",
       "      <td>2012-07-01</td>\n",
       "      <td>2008-12-27</td>\n",
       "      <td>None</td>\n",
       "    </tr>\n",
       "    <tr>\n",
       "      <th>381</th>\n",
       "      <td>382</td>\n",
       "      <td>BK-R64Y-38</td>\n",
       "      <td>2.0</td>\n",
       "      <td>LB</td>\n",
       "      <td>CM</td>\n",
       "      <td>Road-550-W Yellow, 38</td>\n",
       "      <td>Carretera: 550 para mujer, amarilla, 38</td>\n",
       "      <td>Vélo de route 550 -W - jaune, 38</td>\n",
       "      <td>713.08</td>\n",
       "      <td>1</td>\n",
       "      <td>...</td>\n",
       "      <td>使用的技术与我们所有的公路系列自行车完全相同，但车架尺寸专为女士设计。完美的全能自行车，可作...</td>\n",
       "      <td>ولها نفس التقنية المتوفرة في جميع دراجات سلسلة...</td>\n",
       "      <td>טכנולוגיה זהה לזו המצוי באופני סדרת \"כביש\" שלנ...</td>\n",
       "      <td>เทคโนโลยีเดียวกับจักรยานรุ่น Road ทั้งหมด แต่ใ...</td>\n",
       "      <td>Dieselbe Technologie wie bei allen Rädern unse...</td>\n",
       "      <td>ロード シリーズの自転車と同じ技術を使用した女性用サイズのフレームで、ロードにも競技にも適し...</td>\n",
       "      <td>\"Yol serisi bisikletlerimizle aynı teknoloji, ...</td>\n",
       "      <td>2013-07-01</td>\n",
       "      <td>NaT</td>\n",
       "      <td>Current</td>\n",
       "    </tr>\n",
       "    <tr>\n",
       "      <th>283</th>\n",
       "      <td>284</td>\n",
       "      <td>FR-R38B-48</td>\n",
       "      <td>14.0</td>\n",
       "      <td>LB</td>\n",
       "      <td>CM</td>\n",
       "      <td>LL Road Frame - Black, 48</td>\n",
       "      <td>Cuadro de carretera GB: negro, 48</td>\n",
       "      <td>Cadre de vélo de route LL - noir, 48</td>\n",
       "      <td>204.63</td>\n",
       "      <td>1</td>\n",
       "      <td>...</td>\n",
       "      <td>LL 车架提供了安全舒适的骑乘，经济实惠的铝制车架提供了卓越的避震功能。</td>\n",
       "      <td>يوفر الهيكل LL Frame قيادة آمنة ومريحة، مع توف...</td>\n",
       "      <td>מסגרת ה- LL מספקת רכיבה בטוחה ונוחה ועם זאת, מ...</td>\n",
       "      <td>เฟรม LL ให้ความปลอดภัยและสบายขณะขับขี่ พร้อมทั...</td>\n",
       "      <td>Mit dem LL-Rahmen fahren Sie sicher und komfor...</td>\n",
       "      <td>LL フレームは、安全で快適に乗ることができ、値打ち価格のアルミニウム フレームで優れた衝撃...</td>\n",
       "      <td>\"LL Kadro güvenli ve konforlu sürüş sunar, değ...</td>\n",
       "      <td>2013-07-01</td>\n",
       "      <td>NaT</td>\n",
       "      <td>Current</td>\n",
       "    </tr>\n",
       "    <tr>\n",
       "      <th>466</th>\n",
       "      <td>467</td>\n",
       "      <td>GL-H102-L</td>\n",
       "      <td>20.0</td>\n",
       "      <td>None</td>\n",
       "      <td>None</td>\n",
       "      <td>Half-Finger Gloves, L</td>\n",
       "      <td></td>\n",
       "      <td></td>\n",
       "      <td>9.16</td>\n",
       "      <td>1</td>\n",
       "      <td>...</td>\n",
       "      <td>完全填充、手指活动更自如、手掌材质更耐用、大小可调。</td>\n",
       "      <td>قفاز يد ذو حشوة كاملة، وثنية أصابع محسنة، وغطا...</td>\n",
       "      <td>ריפוד מלא, אפשרות כיפוף משופרת לאצבעות, עמידות...</td>\n",
       "      <td>บุเต็มทุกส่วน เพิ่มการยืดหยุ่นของนิ้ว แผ่นฝ่าม...</td>\n",
       "      <td>\"Vollständig gepolstert, verbesserte Flexibili...</td>\n",
       "      <td>フル パディング、改良された指部分の伸縮性、耐久性のある手のひら部分、調整可能なはめ口。</td>\n",
       "      <td>\"Ful pedli, geliştirilmiş parmak esnekliği, da...</td>\n",
       "      <td>2013-07-01</td>\n",
       "      <td>NaT</td>\n",
       "      <td>Current</td>\n",
       "    </tr>\n",
       "    <tr>\n",
       "      <th>310</th>\n",
       "      <td>311</td>\n",
       "      <td>BK-R93R-44</td>\n",
       "      <td>2.0</td>\n",
       "      <td>LB</td>\n",
       "      <td>CM</td>\n",
       "      <td>Road-150 Red, 44</td>\n",
       "      <td>Carretera: 150, roja, 44</td>\n",
       "      <td>Vélo de route 150 rouge, 44</td>\n",
       "      <td>2171.29</td>\n",
       "      <td>1</td>\n",
       "      <td>...</td>\n",
       "      <td>此自行车曾为赛车手夺冠立下汗马功劳。与 Adventure Works Cycles 专业赛...</td>\n",
       "      <td>إنها الدراجة التي يقودها الفائزون بسباقات الدر...</td>\n",
       "      <td>אופניים אלה משמשים את מנצחי התחרויות. לאופניים...</td>\n",
       "      <td>จักรยานคู่ใจของนักแข่งระดับแชมเปี้ยน  ได้รับกา...</td>\n",
       "      <td>\"Dieses Fahrrad wird von Rennprofis gefahren. ...</td>\n",
       "      <td>レース ウィナーも愛用する機種です。Adventure Works Cycles プロフェッ...</td>\n",
       "      <td>\"Bu bisiklet yarışçılar tarafından kullanılmak...</td>\n",
       "      <td>2011-07-01</td>\n",
       "      <td>2007-12-28</td>\n",
       "      <td>None</td>\n",
       "    </tr>\n",
       "  </tbody>\n",
       "</table>\n",
       "<p>5 rows × 36 columns</p>\n",
       "</div>"
      ],
      "text/plain": [
       "     ProductKey ProductAlternateKey  ProductSubcategoryKey  \\\n",
       "359         360          BK-M68B-42                    1.0   \n",
       "381         382          BK-R64Y-38                    2.0   \n",
       "283         284          FR-R38B-48                   14.0   \n",
       "466         467           GL-H102-L                   20.0   \n",
       "310         311          BK-R93R-44                    2.0   \n",
       "\n",
       "    WeightUnitMeasureCode SizeUnitMeasureCode         EnglishProductName  \\\n",
       "359                    LB                  CM     Mountain-200 Black, 42   \n",
       "381                    LB                  CM      Road-550-W Yellow, 38   \n",
       "283                    LB                  CM  LL Road Frame - Black, 48   \n",
       "466                  None                None      Half-Finger Gloves, L   \n",
       "310                    LB                  CM           Road-150 Red, 44   \n",
       "\n",
       "                          SpanishProductName  \\\n",
       "359                  Montaña: 200, negra, 42   \n",
       "381  Carretera: 550 para mujer, amarilla, 38   \n",
       "283        Cuadro de carretera GB: negro, 48   \n",
       "466                                            \n",
       "310                 Carretera: 150, roja, 44   \n",
       "\n",
       "                        FrenchProductName  StandardCost  FinishedGoodsFlag  \\\n",
       "359                      VTT 200 noir, 42       1105.81                  1   \n",
       "381      Vélo de route 550 -W - jaune, 38        713.08                  1   \n",
       "283  Cadre de vélo de route LL - noir, 48        204.63                  1   \n",
       "466                                                9.16                  1   \n",
       "310           Vélo de route 150 rouge, 44       2171.29                  1   \n",
       "\n",
       "     ...                                 ChineseDescription  \\\n",
       "359  ...  适用于环境恶劣的野外骑乘。可应对各种比赛的完美赛车。使用与 Mountain-100 相同的...   \n",
       "381  ...  使用的技术与我们所有的公路系列自行车完全相同，但车架尺寸专为女士设计。完美的全能自行车，可作...   \n",
       "283  ...               LL 车架提供了安全舒适的骑乘，经济实惠的铝制车架提供了卓越的避震功能。   \n",
       "466  ...                         完全填充、手指活动更自如、手掌材质更耐用、大小可调。   \n",
       "310  ...  此自行车曾为赛车手夺冠立下汗马功劳。与 Adventure Works Cycles 专业赛...   \n",
       "\n",
       "                                     ArabicDescription  \\\n",
       "359  لقيادة المحترفين في المناطق الريفية. دراجة مُث...   \n",
       "381  ولها نفس التقنية المتوفرة في جميع دراجات سلسلة...   \n",
       "283  يوفر الهيكل LL Frame قيادة آمنة ومريحة، مع توف...   \n",
       "466  قفاز يد ذو حشوة كاملة، وثنية أصابع محسنة، وغطا...   \n",
       "310  إنها الدراجة التي يقودها الفائزون بسباقات الدر...   \n",
       "\n",
       "                                     HebrewDescription  \\\n",
       "359  לרכיבה רצינית בשטחים נידחים. מתאימים לכל רמה ש...   \n",
       "381  טכנולוגיה זהה לזו המצוי באופני סדרת \"כביש\" שלנ...   \n",
       "283  מסגרת ה- LL מספקת רכיבה בטוחה ונוחה ועם זאת, מ...   \n",
       "466  ריפוד מלא, אפשרות כיפוף משופרת לאצבעות, עמידות...   \n",
       "310  אופניים אלה משמשים את מנצחי התחרויות. לאופניים...   \n",
       "\n",
       "                                       ThaiDescription  \\\n",
       "359  สำหรับการขี่ในเส้นทางผจญภัย  เหมาะที่สุดสำหรับ...   \n",
       "381  เทคโนโลยีเดียวกับจักรยานรุ่น Road ทั้งหมด แต่ใ...   \n",
       "283  เฟรม LL ให้ความปลอดภัยและสบายขณะขับขี่ พร้อมทั...   \n",
       "466  บุเต็มทุกส่วน เพิ่มการยืดหยุ่นของนิ้ว แผ่นฝ่าม...   \n",
       "310  จักรยานคู่ใจของนักแข่งระดับแชมเปี้ยน  ได้รับกา...   \n",
       "\n",
       "                                     GermanDescription  \\\n",
       "359  Mountainbike für Profis. Perfekt für alle Schw...   \n",
       "381  Dieselbe Technologie wie bei allen Rädern unse...   \n",
       "283  Mit dem LL-Rahmen fahren Sie sicher und komfor...   \n",
       "466  \"Vollständig gepolstert, verbesserte Flexibili...   \n",
       "310  \"Dieses Fahrrad wird von Rennprofis gefahren. ...   \n",
       "\n",
       "                                   JapaneseDescription  \\\n",
       "359  バック カントリーまたは全レベルの競技用で、Mountain-100 と同じ HL フレーム...   \n",
       "381  ロード シリーズの自転車と同じ技術を使用した女性用サイズのフレームで、ロードにも競技にも適し...   \n",
       "283  LL フレームは、安全で快適に乗ることができ、値打ち価格のアルミニウム フレームで優れた衝撃...   \n",
       "466       フル パディング、改良された指部分の伸縮性、耐久性のある手のひら部分、調整可能なはめ口。   \n",
       "310  レース ウィナーも愛用する機種です。Adventure Works Cycles プロフェッ...   \n",
       "\n",
       "                                    TurkishDescription  StartDate    EndDate  \\\n",
       "359  Gerçek arazi sürüşü. Tüm yarışma seviyeleri iç... 2012-07-01 2008-12-27   \n",
       "381  \"Yol serisi bisikletlerimizle aynı teknoloji, ... 2013-07-01        NaT   \n",
       "283  \"LL Kadro güvenli ve konforlu sürüş sunar, değ... 2013-07-01        NaT   \n",
       "466  \"Ful pedli, geliştirilmiş parmak esnekliği, da... 2013-07-01        NaT   \n",
       "310  \"Bu bisiklet yarışçılar tarafından kullanılmak... 2011-07-01 2007-12-28   \n",
       "\n",
       "      Status  \n",
       "359     None  \n",
       "381  Current  \n",
       "283  Current  \n",
       "466  Current  \n",
       "310     None  \n",
       "\n",
       "[5 rows x 36 columns]"
      ]
     },
     "execution_count": 60,
     "metadata": {},
     "output_type": "execute_result"
    }
   ],
   "source": [
    "dimproduct.sample(5)"
   ]
  },
  {
   "cell_type": "markdown",
   "id": "fcd9f838-7091-4b27-9e53-310f213431ac",
   "metadata": {},
   "source": [
    "### Attributi `.loc` e `.iloc`"
   ]
  },
  {
   "cell_type": "code",
   "execution_count": 61,
   "id": "c82a6c59-c0da-4775-b45e-c3bdb831acf3",
   "metadata": {
    "tags": []
   },
   "outputs": [
    {
     "data": {
      "text/plain": [
       "0         NA\n",
       "1         NA\n",
       "2         NA\n",
       "3         NA\n",
       "4         NA\n",
       "       ...  \n",
       "601       NA\n",
       "602       NA\n",
       "603    Black\n",
       "604    Black\n",
       "605    Black\n",
       "Name: Color, Length: 606, dtype: object"
      ]
     },
     "execution_count": 61,
     "metadata": {},
     "output_type": "execute_result"
    }
   ],
   "source": [
    "dimproduct.loc[:, \"Color\"]"
   ]
  },
  {
   "cell_type": "code",
   "execution_count": 62,
   "id": "93f3056f-9037-40da-bc37-e95be83b2581",
   "metadata": {
    "tags": []
   },
   "outputs": [
    {
     "data": {
      "text/plain": [
       "0         NA\n",
       "1         NA\n",
       "2         NA\n",
       "3         NA\n",
       "4         NA\n",
       "       ...  \n",
       "601       NA\n",
       "602       NA\n",
       "603    Black\n",
       "604    Black\n",
       "605    Black\n",
       "Name: Color, Length: 606, dtype: object"
      ]
     },
     "execution_count": 62,
     "metadata": {},
     "output_type": "execute_result"
    }
   ],
   "source": [
    "dimproduct[\"Color\"]"
   ]
  },
  {
   "cell_type": "code",
   "execution_count": 63,
   "id": "171e9371-2835-4f78-b672-4a0e4794ea9d",
   "metadata": {
    "tags": []
   },
   "outputs": [
    {
     "data": {
      "text/html": [
       "<div>\n",
       "<style scoped>\n",
       "    .dataframe tbody tr th:only-of-type {\n",
       "        vertical-align: middle;\n",
       "    }\n",
       "\n",
       "    .dataframe tbody tr th {\n",
       "        vertical-align: top;\n",
       "    }\n",
       "\n",
       "    .dataframe thead th {\n",
       "        text-align: right;\n",
       "    }\n",
       "</style>\n",
       "<table border=\"1\" class=\"dataframe\">\n",
       "  <thead>\n",
       "    <tr style=\"text-align: right;\">\n",
       "      <th></th>\n",
       "      <th>ProductKey</th>\n",
       "      <th>ProductAlternateKey</th>\n",
       "      <th>ProductSubcategoryKey</th>\n",
       "      <th>WeightUnitMeasureCode</th>\n",
       "      <th>SizeUnitMeasureCode</th>\n",
       "      <th>EnglishProductName</th>\n",
       "      <th>SpanishProductName</th>\n",
       "      <th>FrenchProductName</th>\n",
       "      <th>StandardCost</th>\n",
       "      <th>FinishedGoodsFlag</th>\n",
       "      <th>...</th>\n",
       "      <th>ChineseDescription</th>\n",
       "      <th>ArabicDescription</th>\n",
       "      <th>HebrewDescription</th>\n",
       "      <th>ThaiDescription</th>\n",
       "      <th>GermanDescription</th>\n",
       "      <th>JapaneseDescription</th>\n",
       "      <th>TurkishDescription</th>\n",
       "      <th>StartDate</th>\n",
       "      <th>EndDate</th>\n",
       "      <th>Status</th>\n",
       "    </tr>\n",
       "  </thead>\n",
       "  <tbody>\n",
       "    <tr>\n",
       "      <th>10</th>\n",
       "      <td>11</td>\n",
       "      <td>CR-7833</td>\n",
       "      <td>NaN</td>\n",
       "      <td>None</td>\n",
       "      <td>None</td>\n",
       "      <td>Chainring</td>\n",
       "      <td></td>\n",
       "      <td></td>\n",
       "      <td>NaN</td>\n",
       "      <td>0</td>\n",
       "      <td>...</td>\n",
       "      <td>None</td>\n",
       "      <td>None</td>\n",
       "      <td>None</td>\n",
       "      <td>None</td>\n",
       "      <td>None</td>\n",
       "      <td>None</td>\n",
       "      <td>None</td>\n",
       "      <td>2003-07-01</td>\n",
       "      <td>NaT</td>\n",
       "      <td>Current</td>\n",
       "    </tr>\n",
       "    <tr>\n",
       "      <th>11</th>\n",
       "      <td>12</td>\n",
       "      <td>CR-9981</td>\n",
       "      <td>NaN</td>\n",
       "      <td>None</td>\n",
       "      <td>None</td>\n",
       "      <td>Crown Race</td>\n",
       "      <td></td>\n",
       "      <td></td>\n",
       "      <td>NaN</td>\n",
       "      <td>0</td>\n",
       "      <td>...</td>\n",
       "      <td>None</td>\n",
       "      <td>None</td>\n",
       "      <td>None</td>\n",
       "      <td>None</td>\n",
       "      <td>None</td>\n",
       "      <td>None</td>\n",
       "      <td>None</td>\n",
       "      <td>2003-07-01</td>\n",
       "      <td>NaT</td>\n",
       "      <td>Current</td>\n",
       "    </tr>\n",
       "    <tr>\n",
       "      <th>12</th>\n",
       "      <td>13</td>\n",
       "      <td>CS-2812</td>\n",
       "      <td>NaN</td>\n",
       "      <td>None</td>\n",
       "      <td>None</td>\n",
       "      <td>Chain Stays</td>\n",
       "      <td></td>\n",
       "      <td></td>\n",
       "      <td>NaN</td>\n",
       "      <td>0</td>\n",
       "      <td>...</td>\n",
       "      <td>None</td>\n",
       "      <td>None</td>\n",
       "      <td>None</td>\n",
       "      <td>None</td>\n",
       "      <td>None</td>\n",
       "      <td>None</td>\n",
       "      <td>None</td>\n",
       "      <td>2003-07-01</td>\n",
       "      <td>NaT</td>\n",
       "      <td>Current</td>\n",
       "    </tr>\n",
       "    <tr>\n",
       "      <th>13</th>\n",
       "      <td>14</td>\n",
       "      <td>DC-8732</td>\n",
       "      <td>NaN</td>\n",
       "      <td>None</td>\n",
       "      <td>None</td>\n",
       "      <td>Decal 1</td>\n",
       "      <td></td>\n",
       "      <td></td>\n",
       "      <td>NaN</td>\n",
       "      <td>0</td>\n",
       "      <td>...</td>\n",
       "      <td>None</td>\n",
       "      <td>None</td>\n",
       "      <td>None</td>\n",
       "      <td>None</td>\n",
       "      <td>None</td>\n",
       "      <td>None</td>\n",
       "      <td>None</td>\n",
       "      <td>2003-07-01</td>\n",
       "      <td>NaT</td>\n",
       "      <td>Current</td>\n",
       "    </tr>\n",
       "    <tr>\n",
       "      <th>14</th>\n",
       "      <td>15</td>\n",
       "      <td>DC-9824</td>\n",
       "      <td>NaN</td>\n",
       "      <td>None</td>\n",
       "      <td>None</td>\n",
       "      <td>Decal 2</td>\n",
       "      <td></td>\n",
       "      <td></td>\n",
       "      <td>NaN</td>\n",
       "      <td>0</td>\n",
       "      <td>...</td>\n",
       "      <td>None</td>\n",
       "      <td>None</td>\n",
       "      <td>None</td>\n",
       "      <td>None</td>\n",
       "      <td>None</td>\n",
       "      <td>None</td>\n",
       "      <td>None</td>\n",
       "      <td>2003-07-01</td>\n",
       "      <td>NaT</td>\n",
       "      <td>Current</td>\n",
       "    </tr>\n",
       "    <tr>\n",
       "      <th>15</th>\n",
       "      <td>16</td>\n",
       "      <td>DT-2377</td>\n",
       "      <td>NaN</td>\n",
       "      <td>None</td>\n",
       "      <td>None</td>\n",
       "      <td>Down Tube</td>\n",
       "      <td></td>\n",
       "      <td></td>\n",
       "      <td>NaN</td>\n",
       "      <td>0</td>\n",
       "      <td>...</td>\n",
       "      <td>None</td>\n",
       "      <td>None</td>\n",
       "      <td>None</td>\n",
       "      <td>None</td>\n",
       "      <td>None</td>\n",
       "      <td>None</td>\n",
       "      <td>None</td>\n",
       "      <td>2003-07-01</td>\n",
       "      <td>NaT</td>\n",
       "      <td>Current</td>\n",
       "    </tr>\n",
       "    <tr>\n",
       "      <th>16</th>\n",
       "      <td>17</td>\n",
       "      <td>EC-M092</td>\n",
       "      <td>NaN</td>\n",
       "      <td>None</td>\n",
       "      <td>None</td>\n",
       "      <td>Mountain End Caps</td>\n",
       "      <td></td>\n",
       "      <td></td>\n",
       "      <td>NaN</td>\n",
       "      <td>0</td>\n",
       "      <td>...</td>\n",
       "      <td>None</td>\n",
       "      <td>None</td>\n",
       "      <td>None</td>\n",
       "      <td>None</td>\n",
       "      <td>None</td>\n",
       "      <td>None</td>\n",
       "      <td>None</td>\n",
       "      <td>2003-07-01</td>\n",
       "      <td>NaT</td>\n",
       "      <td>Current</td>\n",
       "    </tr>\n",
       "    <tr>\n",
       "      <th>17</th>\n",
       "      <td>18</td>\n",
       "      <td>EC-R098</td>\n",
       "      <td>NaN</td>\n",
       "      <td>None</td>\n",
       "      <td>None</td>\n",
       "      <td>Road End Caps</td>\n",
       "      <td></td>\n",
       "      <td></td>\n",
       "      <td>NaN</td>\n",
       "      <td>0</td>\n",
       "      <td>...</td>\n",
       "      <td>None</td>\n",
       "      <td>None</td>\n",
       "      <td>None</td>\n",
       "      <td>None</td>\n",
       "      <td>None</td>\n",
       "      <td>None</td>\n",
       "      <td>None</td>\n",
       "      <td>2003-07-01</td>\n",
       "      <td>NaT</td>\n",
       "      <td>Current</td>\n",
       "    </tr>\n",
       "    <tr>\n",
       "      <th>18</th>\n",
       "      <td>19</td>\n",
       "      <td>EC-T209</td>\n",
       "      <td>NaN</td>\n",
       "      <td>None</td>\n",
       "      <td>None</td>\n",
       "      <td>Touring End Caps</td>\n",
       "      <td></td>\n",
       "      <td></td>\n",
       "      <td>NaN</td>\n",
       "      <td>0</td>\n",
       "      <td>...</td>\n",
       "      <td>None</td>\n",
       "      <td>None</td>\n",
       "      <td>None</td>\n",
       "      <td>None</td>\n",
       "      <td>None</td>\n",
       "      <td>None</td>\n",
       "      <td>None</td>\n",
       "      <td>2003-07-01</td>\n",
       "      <td>NaT</td>\n",
       "      <td>Current</td>\n",
       "    </tr>\n",
       "    <tr>\n",
       "      <th>19</th>\n",
       "      <td>20</td>\n",
       "      <td>FE-3760</td>\n",
       "      <td>NaN</td>\n",
       "      <td>None</td>\n",
       "      <td>None</td>\n",
       "      <td>Fork End</td>\n",
       "      <td></td>\n",
       "      <td></td>\n",
       "      <td>NaN</td>\n",
       "      <td>0</td>\n",
       "      <td>...</td>\n",
       "      <td>None</td>\n",
       "      <td>None</td>\n",
       "      <td>None</td>\n",
       "      <td>None</td>\n",
       "      <td>None</td>\n",
       "      <td>None</td>\n",
       "      <td>None</td>\n",
       "      <td>2003-07-01</td>\n",
       "      <td>NaT</td>\n",
       "      <td>Current</td>\n",
       "    </tr>\n",
       "  </tbody>\n",
       "</table>\n",
       "<p>10 rows × 36 columns</p>\n",
       "</div>"
      ],
      "text/plain": [
       "    ProductKey ProductAlternateKey  ProductSubcategoryKey  \\\n",
       "10          11             CR-7833                    NaN   \n",
       "11          12             CR-9981                    NaN   \n",
       "12          13             CS-2812                    NaN   \n",
       "13          14             DC-8732                    NaN   \n",
       "14          15             DC-9824                    NaN   \n",
       "15          16             DT-2377                    NaN   \n",
       "16          17             EC-M092                    NaN   \n",
       "17          18             EC-R098                    NaN   \n",
       "18          19             EC-T209                    NaN   \n",
       "19          20             FE-3760                    NaN   \n",
       "\n",
       "   WeightUnitMeasureCode SizeUnitMeasureCode EnglishProductName  \\\n",
       "10                  None                None          Chainring   \n",
       "11                  None                None         Crown Race   \n",
       "12                  None                None        Chain Stays   \n",
       "13                  None                None            Decal 1   \n",
       "14                  None                None            Decal 2   \n",
       "15                  None                None          Down Tube   \n",
       "16                  None                None  Mountain End Caps   \n",
       "17                  None                None      Road End Caps   \n",
       "18                  None                None   Touring End Caps   \n",
       "19                  None                None           Fork End   \n",
       "\n",
       "   SpanishProductName FrenchProductName  StandardCost  FinishedGoodsFlag  ...  \\\n",
       "10                                                NaN                  0  ...   \n",
       "11                                                NaN                  0  ...   \n",
       "12                                                NaN                  0  ...   \n",
       "13                                                NaN                  0  ...   \n",
       "14                                                NaN                  0  ...   \n",
       "15                                                NaN                  0  ...   \n",
       "16                                                NaN                  0  ...   \n",
       "17                                                NaN                  0  ...   \n",
       "18                                                NaN                  0  ...   \n",
       "19                                                NaN                  0  ...   \n",
       "\n",
       "   ChineseDescription  ArabicDescription  HebrewDescription  ThaiDescription  \\\n",
       "10               None               None               None             None   \n",
       "11               None               None               None             None   \n",
       "12               None               None               None             None   \n",
       "13               None               None               None             None   \n",
       "14               None               None               None             None   \n",
       "15               None               None               None             None   \n",
       "16               None               None               None             None   \n",
       "17               None               None               None             None   \n",
       "18               None               None               None             None   \n",
       "19               None               None               None             None   \n",
       "\n",
       "   GermanDescription JapaneseDescription  TurkishDescription  StartDate  \\\n",
       "10              None                None                None 2003-07-01   \n",
       "11              None                None                None 2003-07-01   \n",
       "12              None                None                None 2003-07-01   \n",
       "13              None                None                None 2003-07-01   \n",
       "14              None                None                None 2003-07-01   \n",
       "15              None                None                None 2003-07-01   \n",
       "16              None                None                None 2003-07-01   \n",
       "17              None                None                None 2003-07-01   \n",
       "18              None                None                None 2003-07-01   \n",
       "19              None                None                None 2003-07-01   \n",
       "\n",
       "   EndDate   Status  \n",
       "10     NaT  Current  \n",
       "11     NaT  Current  \n",
       "12     NaT  Current  \n",
       "13     NaT  Current  \n",
       "14     NaT  Current  \n",
       "15     NaT  Current  \n",
       "16     NaT  Current  \n",
       "17     NaT  Current  \n",
       "18     NaT  Current  \n",
       "19     NaT  Current  \n",
       "\n",
       "[10 rows x 36 columns]"
      ]
     },
     "execution_count": 63,
     "metadata": {},
     "output_type": "execute_result"
    }
   ],
   "source": [
    "dimproduct[10:20]"
   ]
  },
  {
   "cell_type": "code",
   "execution_count": 64,
   "id": "2c632e13-a141-4f63-bdc5-cd06f4e2d1a7",
   "metadata": {
    "tags": []
   },
   "outputs": [
    {
     "data": {
      "text/html": [
       "<div>\n",
       "<style scoped>\n",
       "    .dataframe tbody tr th:only-of-type {\n",
       "        vertical-align: middle;\n",
       "    }\n",
       "\n",
       "    .dataframe tbody tr th {\n",
       "        vertical-align: top;\n",
       "    }\n",
       "\n",
       "    .dataframe thead th {\n",
       "        text-align: right;\n",
       "    }\n",
       "</style>\n",
       "<table border=\"1\" class=\"dataframe\">\n",
       "  <thead>\n",
       "    <tr style=\"text-align: right;\">\n",
       "      <th></th>\n",
       "      <th>StandardCost</th>\n",
       "      <th>FinishedGoodsFlag</th>\n",
       "      <th>Color</th>\n",
       "    </tr>\n",
       "  </thead>\n",
       "  <tbody>\n",
       "    <tr>\n",
       "      <th>10</th>\n",
       "      <td>NaN</td>\n",
       "      <td>0</td>\n",
       "      <td>Black</td>\n",
       "    </tr>\n",
       "    <tr>\n",
       "      <th>11</th>\n",
       "      <td>NaN</td>\n",
       "      <td>0</td>\n",
       "      <td>NA</td>\n",
       "    </tr>\n",
       "    <tr>\n",
       "      <th>12</th>\n",
       "      <td>NaN</td>\n",
       "      <td>0</td>\n",
       "      <td>NA</td>\n",
       "    </tr>\n",
       "    <tr>\n",
       "      <th>13</th>\n",
       "      <td>NaN</td>\n",
       "      <td>0</td>\n",
       "      <td>NA</td>\n",
       "    </tr>\n",
       "    <tr>\n",
       "      <th>14</th>\n",
       "      <td>NaN</td>\n",
       "      <td>0</td>\n",
       "      <td>NA</td>\n",
       "    </tr>\n",
       "    <tr>\n",
       "      <th>15</th>\n",
       "      <td>NaN</td>\n",
       "      <td>0</td>\n",
       "      <td>NA</td>\n",
       "    </tr>\n",
       "  </tbody>\n",
       "</table>\n",
       "</div>"
      ],
      "text/plain": [
       "    StandardCost  FinishedGoodsFlag  Color\n",
       "10           NaN                  0  Black\n",
       "11           NaN                  0     NA\n",
       "12           NaN                  0     NA\n",
       "13           NaN                  0     NA\n",
       "14           NaN                  0     NA\n",
       "15           NaN                  0     NA"
      ]
     },
     "execution_count": 64,
     "metadata": {},
     "output_type": "execute_result"
    }
   ],
   "source": [
    "dimproduct.loc[10:15, \"StandardCost\":\"Color\"]"
   ]
  },
  {
   "cell_type": "code",
   "execution_count": 65,
   "id": "ea7adec6-af59-4709-860b-81d198544d51",
   "metadata": {
    "tags": []
   },
   "outputs": [
    {
     "data": {
      "text/plain": [
       "0         NA\n",
       "1         NA\n",
       "2         NA\n",
       "3         NA\n",
       "4         NA\n",
       "       ...  \n",
       "601       NA\n",
       "602       NA\n",
       "603    Black\n",
       "604    Black\n",
       "605    Black\n",
       "Name: Color, Length: 606, dtype: object"
      ]
     },
     "execution_count": 65,
     "metadata": {},
     "output_type": "execute_result"
    }
   ],
   "source": [
    "dimproduct.loc[:, \"Color\"]"
   ]
  },
  {
   "cell_type": "code",
   "execution_count": 66,
   "id": "376e3b1d-6a6e-4e44-8a38-da99a5e3a9dc",
   "metadata": {
    "tags": []
   },
   "outputs": [
    {
     "data": {
      "text/html": [
       "<div>\n",
       "<style scoped>\n",
       "    .dataframe tbody tr th:only-of-type {\n",
       "        vertical-align: middle;\n",
       "    }\n",
       "\n",
       "    .dataframe tbody tr th {\n",
       "        vertical-align: top;\n",
       "    }\n",
       "\n",
       "    .dataframe thead th {\n",
       "        text-align: right;\n",
       "    }\n",
       "</style>\n",
       "<table border=\"1\" class=\"dataframe\">\n",
       "  <thead>\n",
       "    <tr style=\"text-align: right;\">\n",
       "      <th></th>\n",
       "      <th>ProductKey</th>\n",
       "      <th>ProductAlternateKey</th>\n",
       "      <th>ProductSubcategoryKey</th>\n",
       "      <th>WeightUnitMeasureCode</th>\n",
       "      <th>SizeUnitMeasureCode</th>\n",
       "    </tr>\n",
       "  </thead>\n",
       "  <tbody>\n",
       "    <tr>\n",
       "      <th>4</th>\n",
       "      <td>5</td>\n",
       "      <td>BL-2036</td>\n",
       "      <td>NaN</td>\n",
       "      <td>None</td>\n",
       "      <td>None</td>\n",
       "    </tr>\n",
       "    <tr>\n",
       "      <th>5</th>\n",
       "      <td>6</td>\n",
       "      <td>CA-5965</td>\n",
       "      <td>NaN</td>\n",
       "      <td>None</td>\n",
       "      <td>None</td>\n",
       "    </tr>\n",
       "    <tr>\n",
       "      <th>6</th>\n",
       "      <td>7</td>\n",
       "      <td>CA-6738</td>\n",
       "      <td>NaN</td>\n",
       "      <td>None</td>\n",
       "      <td>None</td>\n",
       "    </tr>\n",
       "  </tbody>\n",
       "</table>\n",
       "</div>"
      ],
      "text/plain": [
       "   ProductKey ProductAlternateKey  ProductSubcategoryKey  \\\n",
       "4           5             BL-2036                    NaN   \n",
       "5           6             CA-5965                    NaN   \n",
       "6           7             CA-6738                    NaN   \n",
       "\n",
       "  WeightUnitMeasureCode SizeUnitMeasureCode  \n",
       "4                  None                None  \n",
       "5                  None                None  \n",
       "6                  None                None  "
      ]
     },
     "execution_count": 66,
     "metadata": {},
     "output_type": "execute_result"
    }
   ],
   "source": [
    "dimproduct.iloc[4:7, :5]"
   ]
  },
  {
   "cell_type": "code",
   "execution_count": 67,
   "id": "171b97bc-be02-46f2-a8a3-1e7f24859c36",
   "metadata": {
    "tags": []
   },
   "outputs": [
    {
     "data": {
      "text/plain": [
       "ProductKey                                                             121\n",
       "ProductAlternateKey                                                LN-1224\n",
       "ProductSubcategoryKey                                                  NaN\n",
       "WeightUnitMeasureCode                                                 None\n",
       "SizeUnitMeasureCode                                                   None\n",
       "EnglishProductName                                              Lock Nut 7\n",
       "SpanishProductName                                                        \n",
       "FrenchProductName                                                         \n",
       "StandardCost                                                           NaN\n",
       "FinishedGoodsFlag                                                        0\n",
       "Color                                                                   NA\n",
       "SafetyStockLevel                                                      1000\n",
       "ReorderPoint                                                           750\n",
       "ListPrice                                                              NaN\n",
       "Size                                                                  None\n",
       "SizeRange                                                               NA\n",
       "Weight                                                                 NaN\n",
       "DaysToManufacture                                                        0\n",
       "ProductLine                                                           None\n",
       "DealerPrice                                                            NaN\n",
       "Class                                                                 None\n",
       "Style                                                                 None\n",
       "ModelName                                                             None\n",
       "LargePhoto               b'GIF89a\\xf0\\x00\\x95\\x00\\xf7\\x00\\x00\\x00\\x00\\x...\n",
       "EnglishDescription                                                    None\n",
       "FrenchDescription                                                     None\n",
       "ChineseDescription                                                    None\n",
       "ArabicDescription                                                     None\n",
       "HebrewDescription                                                     None\n",
       "ThaiDescription                                                       None\n",
       "GermanDescription                                                     None\n",
       "JapaneseDescription                                                   None\n",
       "TurkishDescription                                                    None\n",
       "StartDate                                              2003-07-01 00:00:00\n",
       "EndDate                                                                NaT\n",
       "Status                                                             Current\n",
       "Name: 120, dtype: object"
      ]
     },
     "execution_count": 67,
     "metadata": {},
     "output_type": "execute_result"
    }
   ],
   "source": [
    "dimproduct.iloc[120]"
   ]
  },
  {
   "cell_type": "code",
   "execution_count": 68,
   "id": "ae894bb3-730d-40b1-b5cf-6e95dc68694e",
   "metadata": {
    "tags": []
   },
   "outputs": [
    {
     "data": {
      "text/plain": [
       "array(['NA', 'Black', 'Silver', 'Red', 'White', 'Blue', 'Multi', 'Yellow',\n",
       "       'Grey', 'Silver/Black'], dtype=object)"
      ]
     },
     "execution_count": 68,
     "metadata": {},
     "output_type": "execute_result"
    }
   ],
   "source": [
    "dimproduct.loc[:, \"Color\"].unique()"
   ]
  },
  {
   "cell_type": "code",
   "execution_count": 69,
   "id": "e952eaf9-e4a0-472e-8b42-bd039b646f30",
   "metadata": {
    "tags": []
   },
   "outputs": [
    {
     "data": {
      "text/plain": [
       "Color\n",
       "NA              254\n",
       "Black           133\n",
       "Red              63\n",
       "Silver           52\n",
       "Yellow           46\n",
       "Blue             28\n",
       "Multi            18\n",
       "Silver/Black      7\n",
       "White             4\n",
       "Grey              1\n",
       "Name: count, dtype: int64"
      ]
     },
     "execution_count": 69,
     "metadata": {},
     "output_type": "execute_result"
    }
   ],
   "source": [
    "dimproduct.loc[:, \"Color\"].value_counts()"
   ]
  },
  {
   "cell_type": "markdown",
   "id": "f0cbb882-6895-4898-8de6-9dab5ea48797",
   "metadata": {},
   "source": [
    "## Slide 3"
   ]
  },
  {
   "cell_type": "code",
   "execution_count": 70,
   "id": "7aa55c8c-d6fd-4940-b547-c9fc843ba31d",
   "metadata": {
    "tags": []
   },
   "outputs": [
    {
     "data": {
      "text/plain": [
       "1050.0"
      ]
     },
     "execution_count": 70,
     "metadata": {},
     "output_type": "execute_result"
    }
   ],
   "source": [
    "dimproduct[\"Weight\"].max()"
   ]
  },
  {
   "cell_type": "code",
   "execution_count": 71,
   "id": "ee423889-76f3-433b-a461-bc64073231f8",
   "metadata": {
    "tags": []
   },
   "outputs": [
    {
     "data": {
      "text/html": [
       "<div>\n",
       "<style scoped>\n",
       "    .dataframe tbody tr th:only-of-type {\n",
       "        vertical-align: middle;\n",
       "    }\n",
       "\n",
       "    .dataframe tbody tr th {\n",
       "        vertical-align: top;\n",
       "    }\n",
       "\n",
       "    .dataframe thead th {\n",
       "        text-align: right;\n",
       "    }\n",
       "</style>\n",
       "<table border=\"1\" class=\"dataframe\">\n",
       "  <thead>\n",
       "    <tr style=\"text-align: right;\">\n",
       "      <th></th>\n",
       "      <th>ProductKey</th>\n",
       "      <th>Weight</th>\n",
       "    </tr>\n",
       "  </thead>\n",
       "  <tbody>\n",
       "    <tr>\n",
       "      <th>179</th>\n",
       "      <td>180</td>\n",
       "      <td>435.0</td>\n",
       "    </tr>\n",
       "    <tr>\n",
       "      <th>180</th>\n",
       "      <td>181</td>\n",
       "      <td>450.0</td>\n",
       "    </tr>\n",
       "    <tr>\n",
       "      <th>181</th>\n",
       "      <td>182</td>\n",
       "      <td>400.0</td>\n",
       "    </tr>\n",
       "    <tr>\n",
       "      <th>182</th>\n",
       "      <td>183</td>\n",
       "      <td>445.0</td>\n",
       "    </tr>\n",
       "    <tr>\n",
       "      <th>183</th>\n",
       "      <td>184</td>\n",
       "      <td>450.0</td>\n",
       "    </tr>\n",
       "    <tr>\n",
       "      <th>184</th>\n",
       "      <td>185</td>\n",
       "      <td>400.0</td>\n",
       "    </tr>\n",
       "    <tr>\n",
       "      <th>185</th>\n",
       "      <td>186</td>\n",
       "      <td>460.0</td>\n",
       "    </tr>\n",
       "    <tr>\n",
       "      <th>412</th>\n",
       "      <td>413</td>\n",
       "      <td>900.0</td>\n",
       "    </tr>\n",
       "    <tr>\n",
       "      <th>413</th>\n",
       "      <td>414</td>\n",
       "      <td>850.0</td>\n",
       "    </tr>\n",
       "    <tr>\n",
       "      <th>414</th>\n",
       "      <td>415</td>\n",
       "      <td>650.0</td>\n",
       "    </tr>\n",
       "    <tr>\n",
       "      <th>421</th>\n",
       "      <td>422</td>\n",
       "      <td>1050.0</td>\n",
       "    </tr>\n",
       "    <tr>\n",
       "      <th>422</th>\n",
       "      <td>423</td>\n",
       "      <td>1000.0</td>\n",
       "    </tr>\n",
       "    <tr>\n",
       "      <th>423</th>\n",
       "      <td>424</td>\n",
       "      <td>890.0</td>\n",
       "    </tr>\n",
       "    <tr>\n",
       "      <th>500</th>\n",
       "      <td>501</td>\n",
       "      <td>215.0</td>\n",
       "    </tr>\n",
       "    <tr>\n",
       "      <th>513</th>\n",
       "      <td>514</td>\n",
       "      <td>317.0</td>\n",
       "    </tr>\n",
       "    <tr>\n",
       "      <th>541</th>\n",
       "      <td>542</td>\n",
       "      <td>218.0</td>\n",
       "    </tr>\n",
       "    <tr>\n",
       "      <th>542</th>\n",
       "      <td>543</td>\n",
       "      <td>215.0</td>\n",
       "    </tr>\n",
       "    <tr>\n",
       "      <th>543</th>\n",
       "      <td>544</td>\n",
       "      <td>185.0</td>\n",
       "    </tr>\n",
       "    <tr>\n",
       "      <th>544</th>\n",
       "      <td>545</td>\n",
       "      <td>189.0</td>\n",
       "    </tr>\n",
       "    <tr>\n",
       "      <th>545</th>\n",
       "      <td>546</td>\n",
       "      <td>168.0</td>\n",
       "    </tr>\n",
       "    <tr>\n",
       "      <th>546</th>\n",
       "      <td>547</td>\n",
       "      <td>149.0</td>\n",
       "    </tr>\n",
       "    <tr>\n",
       "      <th>554</th>\n",
       "      <td>555</td>\n",
       "      <td>317.0</td>\n",
       "    </tr>\n",
       "    <tr>\n",
       "      <th>555</th>\n",
       "      <td>556</td>\n",
       "      <td>600.0</td>\n",
       "    </tr>\n",
       "    <tr>\n",
       "      <th>556</th>\n",
       "      <td>557</td>\n",
       "      <td>635.0</td>\n",
       "    </tr>\n",
       "    <tr>\n",
       "      <th>557</th>\n",
       "      <td>558</td>\n",
       "      <td>575.0</td>\n",
       "    </tr>\n",
       "    <tr>\n",
       "      <th>600</th>\n",
       "      <td>601</td>\n",
       "      <td>223.0</td>\n",
       "    </tr>\n",
       "    <tr>\n",
       "      <th>601</th>\n",
       "      <td>602</td>\n",
       "      <td>168.0</td>\n",
       "    </tr>\n",
       "    <tr>\n",
       "      <th>602</th>\n",
       "      <td>603</td>\n",
       "      <td>170.0</td>\n",
       "    </tr>\n",
       "  </tbody>\n",
       "</table>\n",
       "</div>"
      ],
      "text/plain": [
       "     ProductKey  Weight\n",
       "179         180   435.0\n",
       "180         181   450.0\n",
       "181         182   400.0\n",
       "182         183   445.0\n",
       "183         184   450.0\n",
       "184         185   400.0\n",
       "185         186   460.0\n",
       "412         413   900.0\n",
       "413         414   850.0\n",
       "414         415   650.0\n",
       "421         422  1050.0\n",
       "422         423  1000.0\n",
       "423         424   890.0\n",
       "500         501   215.0\n",
       "513         514   317.0\n",
       "541         542   218.0\n",
       "542         543   215.0\n",
       "543         544   185.0\n",
       "544         545   189.0\n",
       "545         546   168.0\n",
       "546         547   149.0\n",
       "554         555   317.0\n",
       "555         556   600.0\n",
       "556         557   635.0\n",
       "557         558   575.0\n",
       "600         601   223.0\n",
       "601         602   168.0\n",
       "602         603   170.0"
      ]
     },
     "execution_count": 71,
     "metadata": {},
     "output_type": "execute_result"
    }
   ],
   "source": [
    "filtro_righe = dimproduct[\"Weight\"] > 100\n",
    "filtro_colonne = [\"ProductKey\", \"Weight\"]\n",
    "dimproduct.loc[filtro_righe, filtro_colonne]"
   ]
  },
  {
   "cell_type": "code",
   "execution_count": 72,
   "id": "d875eeda-6b55-49e7-9c89-aa3fa2dc727f",
   "metadata": {
    "tags": []
   },
   "outputs": [
    {
     "data": {
      "text/plain": [
       "np.float64(448.5970597468353)"
      ]
     },
     "execution_count": 72,
     "metadata": {},
     "output_type": "execute_result"
    }
   ],
   "source": [
    "dimproduct.loc[:, \"DealerPrice\"].mean()"
   ]
  },
  {
   "cell_type": "code",
   "execution_count": 73,
   "id": "fb8e03fd-0aa9-4296-98cc-eded967b3b0d",
   "metadata": {
    "tags": []
   },
   "outputs": [
    {
     "data": {
      "text/plain": [
       "count     395.000000\n",
       "mean      448.597060\n",
       "std       503.225071\n",
       "min         1.374000\n",
       "25%        41.994000\n",
       "50%       218.454000\n",
       "75%       722.594900\n",
       "max      2146.962000\n",
       "Name: DealerPrice, dtype: float64"
      ]
     },
     "execution_count": 73,
     "metadata": {},
     "output_type": "execute_result"
    }
   ],
   "source": [
    "dimproduct[\"DealerPrice\"].describe()"
   ]
  },
  {
   "cell_type": "code",
   "execution_count": 74,
   "id": "1aaca65f-5c98-43ab-a324-8068f56c302a",
   "metadata": {
    "tags": []
   },
   "outputs": [
    {
     "data": {
      "text/html": [
       "<div>\n",
       "<style scoped>\n",
       "    .dataframe tbody tr th:only-of-type {\n",
       "        vertical-align: middle;\n",
       "    }\n",
       "\n",
       "    .dataframe tbody tr th {\n",
       "        vertical-align: top;\n",
       "    }\n",
       "\n",
       "    .dataframe thead th {\n",
       "        text-align: right;\n",
       "    }\n",
       "</style>\n",
       "<table border=\"1\" class=\"dataframe\">\n",
       "  <thead>\n",
       "    <tr style=\"text-align: right;\">\n",
       "      <th></th>\n",
       "      <th>DealerPrice</th>\n",
       "      <th>Weight</th>\n",
       "      <th>Color</th>\n",
       "      <th>ProductKey</th>\n",
       "    </tr>\n",
       "  </thead>\n",
       "  <tbody>\n",
       "    <tr>\n",
       "      <th>0</th>\n",
       "      <td>NaN</td>\n",
       "      <td>NaN</td>\n",
       "      <td>NA</td>\n",
       "      <td>1</td>\n",
       "    </tr>\n",
       "    <tr>\n",
       "      <th>1</th>\n",
       "      <td>NaN</td>\n",
       "      <td>NaN</td>\n",
       "      <td>NA</td>\n",
       "      <td>2</td>\n",
       "    </tr>\n",
       "    <tr>\n",
       "      <th>2</th>\n",
       "      <td>NaN</td>\n",
       "      <td>NaN</td>\n",
       "      <td>NA</td>\n",
       "      <td>3</td>\n",
       "    </tr>\n",
       "    <tr>\n",
       "      <th>3</th>\n",
       "      <td>NaN</td>\n",
       "      <td>NaN</td>\n",
       "      <td>NA</td>\n",
       "      <td>4</td>\n",
       "    </tr>\n",
       "    <tr>\n",
       "      <th>4</th>\n",
       "      <td>NaN</td>\n",
       "      <td>NaN</td>\n",
       "      <td>NA</td>\n",
       "      <td>5</td>\n",
       "    </tr>\n",
       "    <tr>\n",
       "      <th>...</th>\n",
       "      <td>...</td>\n",
       "      <td>...</td>\n",
       "      <td>...</td>\n",
       "      <td>...</td>\n",
       "    </tr>\n",
       "    <tr>\n",
       "      <th>601</th>\n",
       "      <td>60.744</td>\n",
       "      <td>168.00</td>\n",
       "      <td>NA</td>\n",
       "      <td>602</td>\n",
       "    </tr>\n",
       "    <tr>\n",
       "      <th>602</th>\n",
       "      <td>72.894</td>\n",
       "      <td>170.00</td>\n",
       "      <td>NA</td>\n",
       "      <td>603</td>\n",
       "    </tr>\n",
       "    <tr>\n",
       "      <th>603</th>\n",
       "      <td>323.994</td>\n",
       "      <td>19.77</td>\n",
       "      <td>Black</td>\n",
       "      <td>604</td>\n",
       "    </tr>\n",
       "    <tr>\n",
       "      <th>604</th>\n",
       "      <td>323.994</td>\n",
       "      <td>20.13</td>\n",
       "      <td>Black</td>\n",
       "      <td>605</td>\n",
       "    </tr>\n",
       "    <tr>\n",
       "      <th>605</th>\n",
       "      <td>323.994</td>\n",
       "      <td>20.42</td>\n",
       "      <td>Black</td>\n",
       "      <td>606</td>\n",
       "    </tr>\n",
       "  </tbody>\n",
       "</table>\n",
       "<p>606 rows × 4 columns</p>\n",
       "</div>"
      ],
      "text/plain": [
       "     DealerPrice  Weight  Color  ProductKey\n",
       "0            NaN     NaN     NA           1\n",
       "1            NaN     NaN     NA           2\n",
       "2            NaN     NaN     NA           3\n",
       "3            NaN     NaN     NA           4\n",
       "4            NaN     NaN     NA           5\n",
       "..           ...     ...    ...         ...\n",
       "601       60.744  168.00     NA         602\n",
       "602       72.894  170.00     NA         603\n",
       "603      323.994   19.77  Black         604\n",
       "604      323.994   20.13  Black         605\n",
       "605      323.994   20.42  Black         606\n",
       "\n",
       "[606 rows x 4 columns]"
      ]
     },
     "execution_count": 74,
     "metadata": {},
     "output_type": "execute_result"
    }
   ],
   "source": [
    "filtro_righe = [108, 206]\n",
    "filtro_colonne = [\"DealerPrice\", \"Weight\", \"Color\", \"ProductKey\"]\n",
    "dimproduct.loc[:, filtro_colonne]"
   ]
  },
  {
   "cell_type": "code",
   "execution_count": null,
   "id": "320ce1f3-dd45-46c7-9a22-c4ce6da576c3",
   "metadata": {},
   "outputs": [],
   "source": []
  }
 ],
 "metadata": {
  "kernelspec": {
   "display_name": "Python 3 (ipykernel)",
   "language": "python",
   "name": "python3"
  },
  "language_info": {
   "codemirror_mode": {
    "name": "ipython",
    "version": 3
   },
   "file_extension": ".py",
   "mimetype": "text/x-python",
   "name": "python",
   "nbconvert_exporter": "python",
   "pygments_lexer": "ipython3",
   "version": "3.10.9"
  }
 },
 "nbformat": 4,
 "nbformat_minor": 5
}
